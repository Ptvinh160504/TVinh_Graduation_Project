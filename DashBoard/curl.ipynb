{
 "cells": [
  {
   "cell_type": "code",
   "execution_count": 11,
   "id": "3cbc84b6",
   "metadata": {},
   "outputs": [],
   "source": [
    "file = open('data.txt','a')\n",
    "for i in range(10):\n",
    "    file.write(str(i) + '\\n' )"
   ]
  },
  {
   "cell_type": "code",
   "execution_count": 5,
   "id": "14288800",
   "metadata": {},
   "outputs": [
    {
     "data": {
      "text/plain": [
       "246"
      ]
     },
     "execution_count": 5,
     "metadata": {},
     "output_type": "execute_result"
    }
   ],
   "source": [
    "import subprocess\n",
    "\n",
    "sbd = \"02000001\"\n",
    "nam = \"2024\"\n",
    "url = f\"https://diemthi.vnanet.vn/Home/SearchBySobaodanh?code={sbd}&nam={nam}\"\n",
    "\n",
    "result = subprocess.run(\n",
    "    [\"curl\", \"--insecure\", \"-H\", \"User-Agent: Mozilla/5.0\", url],\n",
    "    capture_output=True, text=True\n",
    ")\n",
    "file = open('data.txt', 'a')\n",
    "file.write(result.stdout)\n",
    "\n"
   ]
  },
  {
   "cell_type": "code",
   "execution_count": 2,
   "id": "20fb8fcf",
   "metadata": {},
   "outputs": [
    {
     "name": "stdout",
     "output_type": "stream",
     "text": [
      "https://diemthi.vnanet.vn/Home/SearchBySobaodanh?code=02000001&nam=2020\n"
     ]
    }
   ],
   "source": [
    "import subprocess\n",
    "sbd = '02000001'\n",
    "nam = 2020\n",
    "url = f\"https://diemthi.vnanet.vn/Home/SearchBySobaodanh?code={sbd}&nam={nam}\"\n",
    "print(url)\n"
   ]
  }
 ],
 "metadata": {
  "kernelspec": {
   "display_name": "Python 3",
   "language": "python",
   "name": "python3"
  },
  "language_info": {
   "codemirror_mode": {
    "name": "ipython",
    "version": 3
   },
   "file_extension": ".py",
   "mimetype": "text/x-python",
   "name": "python",
   "nbconvert_exporter": "python",
   "pygments_lexer": "ipython3",
   "version": "3.11.9"
  }
 },
 "nbformat": 4,
 "nbformat_minor": 5
}
