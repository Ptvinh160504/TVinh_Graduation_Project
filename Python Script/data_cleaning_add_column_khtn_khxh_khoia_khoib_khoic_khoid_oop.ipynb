{
 "cells": [
  {
   "cell_type": "markdown",
   "id": "5c2eff2d",
   "metadata": {},
   "source": [
    "#### Add columns \"khtn\", \"khxh\", \"khoia\", \"khoib\", \"khoic\", \"khoid\""
   ]
  },
  {
   "cell_type": "code",
   "execution_count": null,
   "id": "ce8b620a",
   "metadata": {},
   "outputs": [],
   "source": [
    "def add_column_khtn_khxh_khoia_khoib_khoic_khoid(self, df):\n",
    "    df['khtn'] = df[['vat_li', 'hoa_hoc', 'sinh_hoc']].sum(axis=1, skipna=False)\n",
    "    df['khtn'] = df['khtn'].where(df[['vat_li', 'hoa_hoc', 'sinh_hoc']].notnull().all(axis=1))\n",
    "\n",
    "    df['khxh'] = df[['lich_su', 'dia_li', 'gdcd']].sum(axis=1, skipna=False)\n",
    "    df['khxh'] = df['khxh'].where(df[['lich_su', 'dia_li', 'gdcd']].notnull().all(axis=1))\n",
    "\n",
    "    df['khoi_a'] = df[['toan', 'vat_li', 'hoa_hoc']].sum(axis=1, skipna=False)\n",
    "    df['khoi_a'] = df['khoi_a'].where(df[['toan', 'vat_li', 'hoa_hoc']].notnull().all(axis=1))\n",
    "\n",
    "    df['khoi_b'] = df[['toan', 'hoa_hoc', 'sinh_hoc']].sum(axis=1, skipna=False)\n",
    "    df['khoi_b'] = df['khoi_b'].where(df[['toan', 'hoa_hoc', 'sinh_hoc']].notnull().all(axis=1))\n",
    "\n",
    "    df['khoi_c'] = df[['ngu_van', 'lich_su', 'dia_li']].sum(axis=1, skipna=False)\n",
    "    df['khoi_c'] = df['khoi_c'].where(df[['ngu_van', 'lich_su', 'dia_li']].notnull().all(axis=1))\n",
    "\n",
    "    df['khoi_d'] = df[['toan', 'ngu_van', 'ngoai_ngu']].sum(axis=1, skipna=False)\n",
    "    df['khoi_d'] = df['khoi_d'].where(df[['toan', 'ngu_van', 'ngoai_ngu']].notnull().all(axis=1))\n",
    "\n",
    "    print(\"➕ Đã thêm các cột tổ hợp: khtn, khxh, khối A-D\")\n",
    "    return df"
   ]
  }
 ],
 "metadata": {
  "language_info": {
   "name": "python"
  }
 },
 "nbformat": 4,
 "nbformat_minor": 5
}
