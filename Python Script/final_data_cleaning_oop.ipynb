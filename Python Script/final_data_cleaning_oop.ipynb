{
 "cells": [
  {
   "cell_type": "markdown",
   "id": "2351aa23",
   "metadata": {},
   "source": [
    "### Import Lybrary"
   ]
  },
  {
   "cell_type": "code",
   "execution_count": 42,
   "id": "d38c23c7",
   "metadata": {},
   "outputs": [],
   "source": [
    "import pandas as pd\n",
    "import numpy as np\n",
    "import re"
   ]
  },
  {
   "cell_type": "code",
   "execution_count": null,
   "id": "eb217ca4",
   "metadata": {},
   "outputs": [],
   "source": [
    "file_list = [\n",
    "r'C:\\FPT Polytechnic\\Project Tự Làm\\Điểm thi thpt 2020 - 2024\\diem_thi_2020_2021.csv',\n",
    "r'C:\\FPT Polytechnic\\Project Tự Làm\\Điểm thi thpt 2020 - 2024\\diem_thi_thpt_2022.csv',\n",
    "r'C:\\FPT Polytechnic\\Project Tự Làm\\Điểm thi thpt 2020 - 2024\\diem_thi_thpt_2023.csv',\n",
    "r'C:\\FPT Polytechnic\\Project Tự Làm\\Điểm thi thpt 2020 - 2024\\diem_thi_thpt_2024.csv' \n",
    "]\n",
    "\n",
    "df_national_examination_board = pd.read_excel(\n",
    "r\"C:\\FPT Polytechnic\\Project Tự Làm\\Điểm thi thpt 2020 - 2024\\danh_sach_hoi_dong_thi.xlsx\"\n",
    ")\n",
    "\n",
    "class NationalHighSchoolExamScore:\n",
    "    def __init__(self, file_paths, df_national_examination_board):\n",
    "        self.file_paths = file_paths\n",
    "        self.dataframes = []\n",
    "        self.df_national_examination_board = df_national_examination_board\n",
    "\n",
    "    def read_data(self):\n",
    "        for path in self.file_paths:\n",
    "            try:\n",
    "                df = pd.read_csv(path)\n",
    "                self.dataframes.append((path, df))\n",
    "                print(f\"Read file: {path}\")\n",
    "            except Exception as e:\n",
    "                print(f\"Error reading file {path}: {e}\")\n",
    "\n",
    "    def check_data(self):\n",
    "            if not self.dataframes:\n",
    "                print(\"No data available\")\n",
    "                return\n",
    "\n",
    "            for path, df in self.dataframes:\n",
    "                print(f\"\\n Check data: {path}\")\n",
    "                print(f\"Row numbers: {df.shape[0]}, Column numbers: {df.shape[1]}\")\n",
    "                print(\"Columns:\", list(df.columns))\n",
    "                print(\"Duplicate Values:\", df.duplicated().sum())\n",
    "                print(\"-\" * 60)\n",
    "\n",
    "    def remove_duplicate(self):\n",
    "        for i, (path, df) in enumerate(self.dataframes):\n",
    "            before = len(df)\n",
    "            df = df.drop_duplicates()\n",
    "            self.dataframes[i] = (path, df)\n",
    "            print(f\"Removed {before - len(df)} duplicate rows from: {path}\")\n",
    "\n",
    "    def drop_specific_columns(self, drop_map):\n",
    "        for i, (path, df) in enumerate(self.dataframes):\n",
    "            for key, columns in drop_map.items():\n",
    "                if key in path:\n",
    "                    df = df.drop(columns=[col for col in columns if col in df.columns], errors='ignore')\n",
    "                    self.dataframes[i] = (path, df)\n",
    "\n",
    "    def rename_columns(self, rename_map):\n",
    "        for i, (path, df) in enumerate(self.dataframes):\n",
    "            for key, renames in rename_map.items():\n",
    "                if key in path:\n",
    "                    df = df.rename(columns={k: v for k, v in renames.items() if k in df.columns})\n",
    "                    self.dataframes[i] = (path, df)\n",
    "\n",
    "    def add_column_code_year(self):\n",
    "        for i, (path, df) in enumerate(self.dataframes):\n",
    "            if 'code' not in df.columns and 'sbd' in df.columns:\n",
    "                df['code'] = df['sbd'].astype(str).str[:2].astype(int)\n",
    "                print(f\" Added 'code' to file: {path}\")\n",
    "            if 'year' not in df.columns:\n",
    "                df['year'] = 2022 + i - 1  \n",
    "                print(f\"Added 'year' = {2022 + i - 1} to file: {path}\")\n",
    "            self.dataframes[i] = (path, df)\n",
    "    \n",
    "    def check_data_column_year(self):\n",
    "        if not self.dataframes:\n",
    "            print(\"No data to process\")\n",
    "            return\n",
    "        for path, df in self.dataframes:\n",
    "            print(df[\"year\"].unique())\n",
    "            \n",
    "\n",
    "    def reorder_all_columns(self):\n",
    "        desired_order = [\n",
    "            'sbd', 'toan', 'ngu_van', 'vat_li', 'hoa_hoc', 'sinh_hoc',\n",
    "            'lich_su', 'dia_li', 'gdcd', 'ngoai_ngu', 'code', 'year'\n",
    "        ]\n",
    "        for i, (path, df) in enumerate(self.dataframes):\n",
    "            ordered_cols = [col for col in desired_order if col in df.columns]\n",
    "            df = df[ordered_cols + [col for col in df.columns if col not in ordered_cols]]\n",
    "            self.dataframes[i] = (path, df)\n",
    "\n",
    "    def concat_all(self):\n",
    "        all_dfs = [df for _, df in self.dataframes]\n",
    "        df_concat = pd.concat(all_dfs, ignore_index=True)\n",
    "        print(f\"📦 Total merged rows: {len(df_concat)}\")\n",
    "        return df_concat\n",
    "\n",
    "    def add_column_khtn_khxh_khoia_khoib_khoic_khoid(self, df):\n",
    "        df['khtn'] = df[['vat_li', 'hoa_hoc', 'sinh_hoc']].sum(axis=1, skipna=False)\n",
    "        df['khtn'] = df['khtn'].where(df[['vat_li', 'hoa_hoc', 'sinh_hoc']].notnull().all(axis=1))\n",
    "\n",
    "        df['khxh'] = df[['lich_su', 'dia_li', 'gdcd']].sum(axis=1, skipna=False)\n",
    "        df['khxh'] = df['khxh'].where(df[['lich_su', 'dia_li', 'gdcd']].notnull().all(axis=1))\n",
    "\n",
    "        df['khoi_a'] = df[['toan', 'vat_li', 'hoa_hoc']].sum(axis=1, skipna=False)\n",
    "        df['khoi_a'] = df['khoi_a'].where(df[['toan', 'vat_li', 'hoa_hoc']].notnull().all(axis=1))\n",
    "\n",
    "        df['khoi_b'] = df[['toan', 'hoa_hoc', 'sinh_hoc']].sum(axis=1, skipna=False)\n",
    "        df['khoi_b'] = df['khoi_b'].where(df[['toan', 'hoa_hoc', 'sinh_hoc']].notnull().all(axis=1))\n",
    "\n",
    "        df['khoi_c'] = df[['ngu_van', 'lich_su', 'dia_li']].sum(axis=1, skipna=False)\n",
    "        df['khoi_c'] = df['khoi_c'].where(df[['ngu_van', 'lich_su', 'dia_li']].notnull().all(axis=1))\n",
    "\n",
    "        df['khoi_d'] = df[['toan', 'ngu_van', 'ngoai_ngu']].sum(axis=1, skipna=False)\n",
    "        df['khoi_d'] = df['khoi_d'].where(df[['toan', 'ngu_van', 'ngoai_ngu']].notnull().all(axis=1))\n",
    "\n",
    "        print(\" Success add columns: khtn, khxh, group A-D\")\n",
    "        return df"
   ]
  },
  {
   "cell_type": "code",
   "execution_count": 44,
   "id": "ee4a5e1e",
   "metadata": {},
   "outputs": [],
   "source": [
    "data = NationalHighSchoolExamScore(file_list,df_national_examination_board)"
   ]
  },
  {
   "cell_type": "markdown",
   "id": "e9cfc1a8",
   "metadata": {},
   "source": [
    "#### Read Data CSV"
   ]
  },
  {
   "cell_type": "code",
   "execution_count": 45,
   "id": "a49a4eb7",
   "metadata": {},
   "outputs": [
    {
     "name": "stderr",
     "output_type": "stream",
     "text": [
      "C:\\Users\\Phi Huynh\\AppData\\Local\\Temp\\ipykernel_29892\\3500005507.py:21: DtypeWarning: Columns (1,2,3) have mixed types. Specify dtype option on import or set low_memory=False.\n",
      "  df = pd.read_csv(path)\n"
     ]
    },
    {
     "name": "stdout",
     "output_type": "stream",
     "text": [
      "Read file: C:\\FPT Polytechnic\\Project Tự Làm\\Điểm thi thpt 2020 - 2024\\diem_thi_2020_2021.csv\n",
      "Read file: C:\\FPT Polytechnic\\Project Tự Làm\\Điểm thi thpt 2020 - 2024\\diem_thi_thpt_2022.csv\n",
      "Read file: C:\\FPT Polytechnic\\Project Tự Làm\\Điểm thi thpt 2020 - 2024\\diem_thi_thpt_2023.csv\n",
      "Read file: C:\\FPT Polytechnic\\Project Tự Làm\\Điểm thi thpt 2020 - 2024\\diem_thi_thpt_2024.csv\n"
     ]
    }
   ],
   "source": [
    "data.read_data()"
   ]
  },
  {
   "cell_type": "markdown",
   "id": "234d6a84",
   "metadata": {},
   "source": [
    "#### Check Information Data"
   ]
  },
  {
   "cell_type": "code",
   "execution_count": 46,
   "id": "c526031c",
   "metadata": {},
   "outputs": [
    {
     "name": "stdout",
     "output_type": "stream",
     "text": [
      "\n",
      " Check data: C:\\FPT Polytechnic\\Project Tự Làm\\Điểm thi thpt 2020 - 2024\\diem_thi_2020_2021.csv\n",
      "Row numbers: 1857877, Column numbers: 16\n",
      "Columns: ['SBD', 'Tên', 'Ngày Sinh', 'Giới tính', 'Toán', 'Văn', 'Lý', 'Hoá', 'Sinh', 'Lịch Sử', 'Địa Lý', 'GDCD', 'Ngoại Ngữ', 'Year', 'code', 'province']\n",
      "Duplicate Values: 4591\n",
      "------------------------------------------------------------\n",
      "\n",
      " Check data: C:\\FPT Polytechnic\\Project Tự Làm\\Điểm thi thpt 2020 - 2024\\diem_thi_thpt_2022.csv\n",
      "Row numbers: 995441, Column numbers: 10\n",
      "Columns: ['sbd', 'toan', 'ngu_van', 'ngoai_ngu', 'vat_li', 'hoa_hoc', 'sinh_hoc', 'lich_su', 'dia_li', 'gdcd']\n",
      "Duplicate Values: 0\n",
      "------------------------------------------------------------\n",
      "\n",
      " Check data: C:\\FPT Polytechnic\\Project Tự Làm\\Điểm thi thpt 2020 - 2024\\diem_thi_thpt_2023.csv\n",
      "Row numbers: 1022060, Column numbers: 11\n",
      "Columns: ['sbd', 'toan', 'ngu_van', 'ngoai_ngu', 'vat_li', 'hoa_hoc', 'sinh_hoc', 'lich_su', 'dia_li', 'gdcd', 'ma_ngoai_ngu']\n",
      "Duplicate Values: 0\n",
      "------------------------------------------------------------\n",
      "\n",
      " Check data: C:\\FPT Polytechnic\\Project Tự Làm\\Điểm thi thpt 2020 - 2024\\diem_thi_thpt_2024.csv\n",
      "Row numbers: 1061605, Column numbers: 11\n",
      "Columns: ['sbd', 'toan', 'ngu_van', 'ngoai_ngu', 'vat_li', 'hoa_hoc', 'sinh_hoc', 'lich_su', 'dia_li', 'gdcd', 'ma_ngoai_ngu']\n",
      "Duplicate Values: 0\n",
      "------------------------------------------------------------\n"
     ]
    }
   ],
   "source": [
    "data.check_data()"
   ]
  },
  {
   "cell_type": "markdown",
   "id": "f6d20120",
   "metadata": {},
   "source": [
    "#### Remove Lines Duplicate"
   ]
  },
  {
   "cell_type": "code",
   "execution_count": 47,
   "id": "4dbeca84",
   "metadata": {},
   "outputs": [
    {
     "name": "stdout",
     "output_type": "stream",
     "text": [
      "Removed 4591 duplicate rows from: C:\\FPT Polytechnic\\Project Tự Làm\\Điểm thi thpt 2020 - 2024\\diem_thi_2020_2021.csv\n",
      "Removed 0 duplicate rows from: C:\\FPT Polytechnic\\Project Tự Làm\\Điểm thi thpt 2020 - 2024\\diem_thi_thpt_2022.csv\n",
      "Removed 0 duplicate rows from: C:\\FPT Polytechnic\\Project Tự Làm\\Điểm thi thpt 2020 - 2024\\diem_thi_thpt_2023.csv\n",
      "Removed 0 duplicate rows from: C:\\FPT Polytechnic\\Project Tự Làm\\Điểm thi thpt 2020 - 2024\\diem_thi_thpt_2024.csv\n"
     ]
    }
   ],
   "source": [
    "data.remove_duplicate()"
   ]
  },
  {
   "cell_type": "markdown",
   "id": "52309f9a",
   "metadata": {},
   "source": [
    "#### Check Information Data"
   ]
  },
  {
   "cell_type": "code",
   "execution_count": 48,
   "id": "974a9470",
   "metadata": {},
   "outputs": [
    {
     "name": "stdout",
     "output_type": "stream",
     "text": [
      "\n",
      " Check data: C:\\FPT Polytechnic\\Project Tự Làm\\Điểm thi thpt 2020 - 2024\\diem_thi_2020_2021.csv\n",
      "Row numbers: 1853286, Column numbers: 16\n",
      "Columns: ['SBD', 'Tên', 'Ngày Sinh', 'Giới tính', 'Toán', 'Văn', 'Lý', 'Hoá', 'Sinh', 'Lịch Sử', 'Địa Lý', 'GDCD', 'Ngoại Ngữ', 'Year', 'code', 'province']\n",
      "Duplicate Values: 0\n",
      "------------------------------------------------------------\n",
      "\n",
      " Check data: C:\\FPT Polytechnic\\Project Tự Làm\\Điểm thi thpt 2020 - 2024\\diem_thi_thpt_2022.csv\n",
      "Row numbers: 995441, Column numbers: 10\n",
      "Columns: ['sbd', 'toan', 'ngu_van', 'ngoai_ngu', 'vat_li', 'hoa_hoc', 'sinh_hoc', 'lich_su', 'dia_li', 'gdcd']\n",
      "Duplicate Values: 0\n",
      "------------------------------------------------------------\n",
      "\n",
      " Check data: C:\\FPT Polytechnic\\Project Tự Làm\\Điểm thi thpt 2020 - 2024\\diem_thi_thpt_2023.csv\n",
      "Row numbers: 1022060, Column numbers: 11\n",
      "Columns: ['sbd', 'toan', 'ngu_van', 'ngoai_ngu', 'vat_li', 'hoa_hoc', 'sinh_hoc', 'lich_su', 'dia_li', 'gdcd', 'ma_ngoai_ngu']\n",
      "Duplicate Values: 0\n",
      "------------------------------------------------------------\n",
      "\n",
      " Check data: C:\\FPT Polytechnic\\Project Tự Làm\\Điểm thi thpt 2020 - 2024\\diem_thi_thpt_2024.csv\n",
      "Row numbers: 1061605, Column numbers: 11\n",
      "Columns: ['sbd', 'toan', 'ngu_van', 'ngoai_ngu', 'vat_li', 'hoa_hoc', 'sinh_hoc', 'lich_su', 'dia_li', 'gdcd', 'ma_ngoai_ngu']\n",
      "Duplicate Values: 0\n",
      "------------------------------------------------------------\n"
     ]
    }
   ],
   "source": [
    "data.check_data()"
   ]
  },
  {
   "cell_type": "markdown",
   "id": "d720e9c6",
   "metadata": {},
   "source": [
    "#### Drop Columns Specific"
   ]
  },
  {
   "cell_type": "code",
   "execution_count": 49,
   "id": "5000768d",
   "metadata": {},
   "outputs": [],
   "source": [
    "columns_to_drop = {\n",
    "    \"2020_2021\": [\"Tên\", \"Ngày Sinh\", \"Giới tính\"],\n",
    "    \"2023\": [\"ma_ngoai_ngu\"],\n",
    "    \"2024\": [\"ma_ngoai_ngu\"]\n",
    "}\n",
    "data.drop_specific_columns(columns_to_drop)"
   ]
  },
  {
   "cell_type": "markdown",
   "id": "5f17d081",
   "metadata": {},
   "source": [
    "#### Check Information Data"
   ]
  },
  {
   "cell_type": "code",
   "execution_count": 50,
   "id": "1abbb03a",
   "metadata": {},
   "outputs": [
    {
     "name": "stdout",
     "output_type": "stream",
     "text": [
      "\n",
      " Check data: C:\\FPT Polytechnic\\Project Tự Làm\\Điểm thi thpt 2020 - 2024\\diem_thi_2020_2021.csv\n",
      "Row numbers: 1853286, Column numbers: 13\n",
      "Columns: ['SBD', 'Toán', 'Văn', 'Lý', 'Hoá', 'Sinh', 'Lịch Sử', 'Địa Lý', 'GDCD', 'Ngoại Ngữ', 'Year', 'code', 'province']\n",
      "Duplicate Values: 0\n",
      "------------------------------------------------------------\n",
      "\n",
      " Check data: C:\\FPT Polytechnic\\Project Tự Làm\\Điểm thi thpt 2020 - 2024\\diem_thi_thpt_2022.csv\n",
      "Row numbers: 995441, Column numbers: 10\n",
      "Columns: ['sbd', 'toan', 'ngu_van', 'ngoai_ngu', 'vat_li', 'hoa_hoc', 'sinh_hoc', 'lich_su', 'dia_li', 'gdcd']\n",
      "Duplicate Values: 0\n",
      "------------------------------------------------------------\n",
      "\n",
      " Check data: C:\\FPT Polytechnic\\Project Tự Làm\\Điểm thi thpt 2020 - 2024\\diem_thi_thpt_2023.csv\n",
      "Row numbers: 1022060, Column numbers: 10\n",
      "Columns: ['sbd', 'toan', 'ngu_van', 'ngoai_ngu', 'vat_li', 'hoa_hoc', 'sinh_hoc', 'lich_su', 'dia_li', 'gdcd']\n",
      "Duplicate Values: 0\n",
      "------------------------------------------------------------\n",
      "\n",
      " Check data: C:\\FPT Polytechnic\\Project Tự Làm\\Điểm thi thpt 2020 - 2024\\diem_thi_thpt_2024.csv\n",
      "Row numbers: 1061605, Column numbers: 10\n",
      "Columns: ['sbd', 'toan', 'ngu_van', 'ngoai_ngu', 'vat_li', 'hoa_hoc', 'sinh_hoc', 'lich_su', 'dia_li', 'gdcd']\n",
      "Duplicate Values: 0\n",
      "------------------------------------------------------------\n"
     ]
    }
   ],
   "source": [
    "data.check_data()"
   ]
  },
  {
   "cell_type": "markdown",
   "id": "c4221835",
   "metadata": {},
   "source": [
    "#### Rename Column"
   ]
  },
  {
   "cell_type": "code",
   "execution_count": 51,
   "id": "a39c63b8",
   "metadata": {},
   "outputs": [],
   "source": [
    "data.rename_columns({\n",
    "    \"2020_2021\": {\"SBD\": \"sbd\", \"Toán\": \"toan\", \"Văn\": \"ngu_van\", \"Ngoại Ngữ\": \"ngoai_ngu\", \"Lý\": \"vat_li\", \"Hoá\": \"hoa_hoc\", \n",
    "                  \"Sinh\": \"sinh_hoc\", \"Lịch Sử\": \"lich_su\", \"Địa Lý\": \"dia_li\", \"GDCD\": \"gdcd\", \"Year\": \"year\"}\n",
    "})\n"
   ]
  },
  {
   "cell_type": "markdown",
   "id": "41fa9df5",
   "metadata": {},
   "source": [
    "#### Check Information Data"
   ]
  },
  {
   "cell_type": "code",
   "execution_count": 52,
   "id": "2219e294",
   "metadata": {},
   "outputs": [
    {
     "name": "stdout",
     "output_type": "stream",
     "text": [
      "\n",
      " Check data: C:\\FPT Polytechnic\\Project Tự Làm\\Điểm thi thpt 2020 - 2024\\diem_thi_2020_2021.csv\n",
      "Row numbers: 1853286, Column numbers: 13\n",
      "Columns: ['sbd', 'toan', 'ngu_van', 'vat_li', 'hoa_hoc', 'sinh_hoc', 'lich_su', 'dia_li', 'gdcd', 'ngoai_ngu', 'year', 'code', 'province']\n",
      "Duplicate Values: 0\n",
      "------------------------------------------------------------\n",
      "\n",
      " Check data: C:\\FPT Polytechnic\\Project Tự Làm\\Điểm thi thpt 2020 - 2024\\diem_thi_thpt_2022.csv\n",
      "Row numbers: 995441, Column numbers: 10\n",
      "Columns: ['sbd', 'toan', 'ngu_van', 'ngoai_ngu', 'vat_li', 'hoa_hoc', 'sinh_hoc', 'lich_su', 'dia_li', 'gdcd']\n",
      "Duplicate Values: 0\n",
      "------------------------------------------------------------\n",
      "\n",
      " Check data: C:\\FPT Polytechnic\\Project Tự Làm\\Điểm thi thpt 2020 - 2024\\diem_thi_thpt_2023.csv\n",
      "Row numbers: 1022060, Column numbers: 10\n",
      "Columns: ['sbd', 'toan', 'ngu_van', 'ngoai_ngu', 'vat_li', 'hoa_hoc', 'sinh_hoc', 'lich_su', 'dia_li', 'gdcd']\n",
      "Duplicate Values: 0\n",
      "------------------------------------------------------------\n",
      "\n",
      " Check data: C:\\FPT Polytechnic\\Project Tự Làm\\Điểm thi thpt 2020 - 2024\\diem_thi_thpt_2024.csv\n",
      "Row numbers: 1061605, Column numbers: 10\n",
      "Columns: ['sbd', 'toan', 'ngu_van', 'ngoai_ngu', 'vat_li', 'hoa_hoc', 'sinh_hoc', 'lich_su', 'dia_li', 'gdcd']\n",
      "Duplicate Values: 0\n",
      "------------------------------------------------------------\n"
     ]
    }
   ],
   "source": [
    "data.check_data()"
   ]
  },
  {
   "cell_type": "markdown",
   "id": "c608fe78",
   "metadata": {},
   "source": [
    "#### Add Columns Code And Year"
   ]
  },
  {
   "cell_type": "code",
   "execution_count": 53,
   "id": "618c9e49",
   "metadata": {},
   "outputs": [
    {
     "name": "stdout",
     "output_type": "stream",
     "text": [
      " Added 'code' to file: C:\\FPT Polytechnic\\Project Tự Làm\\Điểm thi thpt 2020 - 2024\\diem_thi_thpt_2022.csv\n",
      "Added 'year' = 2022 to file: C:\\FPT Polytechnic\\Project Tự Làm\\Điểm thi thpt 2020 - 2024\\diem_thi_thpt_2022.csv\n",
      " Added 'code' to file: C:\\FPT Polytechnic\\Project Tự Làm\\Điểm thi thpt 2020 - 2024\\diem_thi_thpt_2023.csv\n",
      "Added 'year' = 2023 to file: C:\\FPT Polytechnic\\Project Tự Làm\\Điểm thi thpt 2020 - 2024\\diem_thi_thpt_2023.csv\n",
      " Added 'code' to file: C:\\FPT Polytechnic\\Project Tự Làm\\Điểm thi thpt 2020 - 2024\\diem_thi_thpt_2024.csv\n",
      "Added 'year' = 2024 to file: C:\\FPT Polytechnic\\Project Tự Làm\\Điểm thi thpt 2020 - 2024\\diem_thi_thpt_2024.csv\n"
     ]
    }
   ],
   "source": [
    "data.add_column_code_year()"
   ]
  },
  {
   "cell_type": "markdown",
   "id": "daa22cac",
   "metadata": {},
   "source": [
    "#### Check Information Data"
   ]
  },
  {
   "cell_type": "code",
   "execution_count": 54,
   "id": "43cc6210",
   "metadata": {},
   "outputs": [
    {
     "name": "stdout",
     "output_type": "stream",
     "text": [
      "[2020 2021]\n",
      "[2022]\n",
      "[2023]\n",
      "[2024]\n"
     ]
    }
   ],
   "source": [
    "data.check_data_column_year()"
   ]
  },
  {
   "cell_type": "markdown",
   "id": "fa74347a",
   "metadata": {},
   "source": [
    "#### Reorder The Columns"
   ]
  },
  {
   "cell_type": "code",
   "execution_count": 55,
   "id": "7aa3902c",
   "metadata": {},
   "outputs": [],
   "source": [
    "data.reorder_all_columns()"
   ]
  },
  {
   "cell_type": "markdown",
   "id": "f4af249d",
   "metadata": {},
   "source": [
    "#### Check Information Data"
   ]
  },
  {
   "cell_type": "code",
   "execution_count": 56,
   "id": "6f31830e",
   "metadata": {},
   "outputs": [
    {
     "name": "stdout",
     "output_type": "stream",
     "text": [
      "\n",
      " Check data: C:\\FPT Polytechnic\\Project Tự Làm\\Điểm thi thpt 2020 - 2024\\diem_thi_2020_2021.csv\n",
      "Row numbers: 1853286, Column numbers: 13\n",
      "Columns: ['sbd', 'toan', 'ngu_van', 'vat_li', 'hoa_hoc', 'sinh_hoc', 'lich_su', 'dia_li', 'gdcd', 'ngoai_ngu', 'code', 'year', 'province']\n",
      "Duplicate Values: 0\n",
      "------------------------------------------------------------\n",
      "\n",
      " Check data: C:\\FPT Polytechnic\\Project Tự Làm\\Điểm thi thpt 2020 - 2024\\diem_thi_thpt_2022.csv\n",
      "Row numbers: 995441, Column numbers: 12\n",
      "Columns: ['sbd', 'toan', 'ngu_van', 'vat_li', 'hoa_hoc', 'sinh_hoc', 'lich_su', 'dia_li', 'gdcd', 'ngoai_ngu', 'code', 'year']\n",
      "Duplicate Values: 0\n",
      "------------------------------------------------------------\n",
      "\n",
      " Check data: C:\\FPT Polytechnic\\Project Tự Làm\\Điểm thi thpt 2020 - 2024\\diem_thi_thpt_2023.csv\n",
      "Row numbers: 1022060, Column numbers: 12\n",
      "Columns: ['sbd', 'toan', 'ngu_van', 'vat_li', 'hoa_hoc', 'sinh_hoc', 'lich_su', 'dia_li', 'gdcd', 'ngoai_ngu', 'code', 'year']\n",
      "Duplicate Values: 0\n",
      "------------------------------------------------------------\n",
      "\n",
      " Check data: C:\\FPT Polytechnic\\Project Tự Làm\\Điểm thi thpt 2020 - 2024\\diem_thi_thpt_2024.csv\n",
      "Row numbers: 1061605, Column numbers: 12\n",
      "Columns: ['sbd', 'toan', 'ngu_van', 'vat_li', 'hoa_hoc', 'sinh_hoc', 'lich_su', 'dia_li', 'gdcd', 'ngoai_ngu', 'code', 'year']\n",
      "Duplicate Values: 0\n",
      "------------------------------------------------------------\n"
     ]
    }
   ],
   "source": [
    "data.check_data()"
   ]
  },
  {
   "cell_type": "markdown",
   "id": "07c356a9",
   "metadata": {},
   "source": [
    "#### Concat Table"
   ]
  },
  {
   "cell_type": "code",
   "execution_count": 57,
   "id": "6e2c71e1",
   "metadata": {},
   "outputs": [
    {
     "name": "stdout",
     "output_type": "stream",
     "text": [
      "📦 Total merged rows: 4932392\n"
     ]
    }
   ],
   "source": [
    "df_national_high_school_exam_score = data.concat_all()"
   ]
  },
  {
   "cell_type": "markdown",
   "id": "3471836f",
   "metadata": {},
   "source": [
    "#### Check Information Data"
   ]
  },
  {
   "cell_type": "code",
   "execution_count": 58,
   "id": "74b41802",
   "metadata": {},
   "outputs": [
    {
     "name": "stdout",
     "output_type": "stream",
     "text": [
      "<class 'pandas.core.frame.DataFrame'>\n",
      "RangeIndex: 4932392 entries, 0 to 4932391\n",
      "Data columns (total 13 columns):\n",
      " #   Column     Dtype  \n",
      "---  ------     -----  \n",
      " 0   sbd        int64  \n",
      " 1   toan       float64\n",
      " 2   ngu_van    float64\n",
      " 3   vat_li     float64\n",
      " 4   hoa_hoc    float64\n",
      " 5   sinh_hoc   float64\n",
      " 6   lich_su    float64\n",
      " 7   dia_li     float64\n",
      " 8   gdcd       float64\n",
      " 9   ngoai_ngu  float64\n",
      " 10  code       int64  \n",
      " 11  year       int64  \n",
      " 12  province   object \n",
      "dtypes: float64(9), int64(3), object(1)\n",
      "memory usage: 489.2+ MB\n"
     ]
    }
   ],
   "source": [
    "df_national_high_school_exam_score.info()"
   ]
  },
  {
   "cell_type": "code",
   "execution_count": 59,
   "id": "4656b481",
   "metadata": {},
   "outputs": [
    {
     "name": "stdout",
     "output_type": "stream",
     "text": [
      " Success add columns: khtn, khxh, khối A-D\n"
     ]
    }
   ],
   "source": [
    "df_national_high_school_exam_score = data.add_column_khtn_khxh_khoia_khoib_khoic_khoid(df_national_high_school_exam_score)\n",
    "df_national_high_school_exam_score.to_csv(r\"C:\\FPT Polytechnic\\Project Tự Làm\\Điểm thi thpt 2020 - 2024\\processed.csv\",index=False,encoding='utf-8-sig')"
   ]
  },
  {
   "cell_type": "markdown",
   "id": "74486af2",
   "metadata": {},
   "source": [
    "#### Rename column danh_sach_hoi_dong_thi.xlsx"
   ]
  },
  {
   "cell_type": "code",
   "execution_count": null,
   "id": "11a51468",
   "metadata": {},
   "outputs": [],
   "source": [
    "df_national_examination_board.rename(columns={\n",
    "\"Mã hội đồng\": \"code\",\n",
    "\"Tên hội đồng thi\": \"national examination board\",\n",
    "\"Tên Tỉnh\": \"province\"\n",
    "}, inplace=True)"
   ]
  },
  {
   "cell_type": "code",
   "execution_count": null,
   "id": "6c064620",
   "metadata": {},
   "outputs": [
    {
     "name": "stdout",
     "output_type": "stream",
     "text": [
      "<class 'pandas.core.frame.DataFrame'>\n",
      "RangeIndex: 64 entries, 0 to 63\n",
      "Data columns (total 5 columns):\n",
      " #   Column                      Non-Null Count  Dtype \n",
      "---  ------                      --------------  ----- \n",
      " 0   code                        64 non-null     int64 \n",
      " 1   national examination board  64 non-null     object\n",
      " 2   province                    64 non-null     object\n",
      " 3   Province                    63 non-null     object\n",
      " 4   Regions                     63 non-null     object\n",
      "dtypes: int64(1), object(4)\n",
      "memory usage: 2.6+ KB\n",
      "<class 'pandas.core.frame.DataFrame'>\n",
      "RangeIndex: 4932392 entries, 0 to 4932391\n",
      "Data columns (total 19 columns):\n",
      " #   Column     Dtype  \n",
      "---  ------     -----  \n",
      " 0   sbd        int64  \n",
      " 1   toan       float64\n",
      " 2   ngu_van    float64\n",
      " 3   vat_li     float64\n",
      " 4   hoa_hoc    float64\n",
      " 5   sinh_hoc   float64\n",
      " 6   lich_su    float64\n",
      " 7   dia_li     float64\n",
      " 8   gdcd       float64\n",
      " 9   ngoai_ngu  float64\n",
      " 10  code       int64  \n",
      " 11  year       int64  \n",
      " 12  province   object \n",
      " 13  khtn       float64\n",
      " 14  khxh       float64\n",
      " 15  khoi_a     float64\n",
      " 16  khoi_b     float64\n",
      " 17  khoi_c     float64\n",
      " 18  khoi_d     float64\n",
      "dtypes: float64(15), int64(3), object(1)\n",
      "memory usage: 715.0+ MB\n"
     ]
    }
   ],
   "source": [
    "df_national_examination_board.to_csv(r\"C:\\FPT Polytechnic\\Graduation_Project\\Data\\Processed\\national_examination_board.csv\", index=False)\n",
    "df_region_of_vietnam = pd.read_excel(r\"C:\\FPT Polytechnic\\Graduation_Project\\Data\\Raw\\Regions_of_VietNam.xlsx\")\n",
    "df_national_examination_board_transform = pd.merge(df_national_examination_board, df_region_of_vietnam, how=\"left\", left_on='province', right_on='Province')\n",
    "df_national_examination_board_transform.info()\n",
    "df_national_examination_board_transform.drop(columns='Province', inplace=True)\n",
    "df_national_examination_board_transform.rename(columns={'Regions': 'regions'}, inplace=True)\n",
    "df_national_examination_board_transform.to_csv(r'C:\\FPT Polytechnic\\Graduation_Project\\Data\\Processed\\national_examination_board_transform.csv', index=False)\n",
    "df_national_high_school_exam_score.info()"
   ]
  },
  {
   "cell_type": "markdown",
   "id": "890f2be6",
   "metadata": {},
   "source": []
  },
  {
   "cell_type": "code",
   "execution_count": 61,
   "id": "ddd798e2",
   "metadata": {},
   "outputs": [
    {
     "data": {
      "text/html": [
       "<div>\n",
       "<style scoped>\n",
       "    .dataframe tbody tr th:only-of-type {\n",
       "        vertical-align: middle;\n",
       "    }\n",
       "\n",
       "    .dataframe tbody tr th {\n",
       "        vertical-align: top;\n",
       "    }\n",
       "\n",
       "    .dataframe thead th {\n",
       "        text-align: right;\n",
       "    }\n",
       "</style>\n",
       "<table border=\"1\" class=\"dataframe\">\n",
       "  <thead>\n",
       "    <tr style=\"text-align: right;\">\n",
       "      <th></th>\n",
       "      <th>sbd</th>\n",
       "      <th>toan</th>\n",
       "      <th>ngu_van</th>\n",
       "      <th>vat_li</th>\n",
       "      <th>hoa_hoc</th>\n",
       "      <th>sinh_hoc</th>\n",
       "      <th>lich_su</th>\n",
       "      <th>dia_li</th>\n",
       "      <th>gdcd</th>\n",
       "      <th>ngoai_ngu</th>\n",
       "      <th>code</th>\n",
       "      <th>year</th>\n",
       "      <th>province</th>\n",
       "      <th>khtn</th>\n",
       "      <th>khxh</th>\n",
       "      <th>khoi_a</th>\n",
       "      <th>khoi_b</th>\n",
       "      <th>khoi_c</th>\n",
       "      <th>khoi_d</th>\n",
       "    </tr>\n",
       "  </thead>\n",
       "  <tbody>\n",
       "    <tr>\n",
       "      <th>0</th>\n",
       "      <td>18014547</td>\n",
       "      <td>6.4</td>\n",
       "      <td>6.75</td>\n",
       "      <td>NaN</td>\n",
       "      <td>NaN</td>\n",
       "      <td>NaN</td>\n",
       "      <td>4.75</td>\n",
       "      <td>7.00</td>\n",
       "      <td>6.50</td>\n",
       "      <td>4.2</td>\n",
       "      <td>18</td>\n",
       "      <td>2020</td>\n",
       "      <td>Bắc Giang</td>\n",
       "      <td>NaN</td>\n",
       "      <td>18.25</td>\n",
       "      <td>NaN</td>\n",
       "      <td>NaN</td>\n",
       "      <td>18.50</td>\n",
       "      <td>17.35</td>\n",
       "    </tr>\n",
       "    <tr>\n",
       "      <th>1</th>\n",
       "      <td>18014530</td>\n",
       "      <td>7.6</td>\n",
       "      <td>6.00</td>\n",
       "      <td>NaN</td>\n",
       "      <td>NaN</td>\n",
       "      <td>NaN</td>\n",
       "      <td>3.75</td>\n",
       "      <td>7.75</td>\n",
       "      <td>7.75</td>\n",
       "      <td>2.8</td>\n",
       "      <td>18</td>\n",
       "      <td>2020</td>\n",
       "      <td>Bắc Giang</td>\n",
       "      <td>NaN</td>\n",
       "      <td>19.25</td>\n",
       "      <td>NaN</td>\n",
       "      <td>NaN</td>\n",
       "      <td>17.50</td>\n",
       "      <td>16.40</td>\n",
       "    </tr>\n",
       "    <tr>\n",
       "      <th>2</th>\n",
       "      <td>18014521</td>\n",
       "      <td>4.8</td>\n",
       "      <td>4.75</td>\n",
       "      <td>NaN</td>\n",
       "      <td>NaN</td>\n",
       "      <td>NaN</td>\n",
       "      <td>4.00</td>\n",
       "      <td>6.50</td>\n",
       "      <td>NaN</td>\n",
       "      <td>NaN</td>\n",
       "      <td>18</td>\n",
       "      <td>2020</td>\n",
       "      <td>Bắc Giang</td>\n",
       "      <td>NaN</td>\n",
       "      <td>NaN</td>\n",
       "      <td>NaN</td>\n",
       "      <td>NaN</td>\n",
       "      <td>15.25</td>\n",
       "      <td>NaN</td>\n",
       "    </tr>\n",
       "    <tr>\n",
       "      <th>3</th>\n",
       "      <td>18014517</td>\n",
       "      <td>8.0</td>\n",
       "      <td>7.00</td>\n",
       "      <td>NaN</td>\n",
       "      <td>NaN</td>\n",
       "      <td>NaN</td>\n",
       "      <td>8.25</td>\n",
       "      <td>8.00</td>\n",
       "      <td>9.50</td>\n",
       "      <td>5.8</td>\n",
       "      <td>18</td>\n",
       "      <td>2020</td>\n",
       "      <td>Bắc Giang</td>\n",
       "      <td>NaN</td>\n",
       "      <td>25.75</td>\n",
       "      <td>NaN</td>\n",
       "      <td>NaN</td>\n",
       "      <td>23.25</td>\n",
       "      <td>20.80</td>\n",
       "    </tr>\n",
       "    <tr>\n",
       "      <th>4</th>\n",
       "      <td>18014523</td>\n",
       "      <td>8.2</td>\n",
       "      <td>6.50</td>\n",
       "      <td>8.00</td>\n",
       "      <td>8.5</td>\n",
       "      <td>5.0</td>\n",
       "      <td>NaN</td>\n",
       "      <td>NaN</td>\n",
       "      <td>NaN</td>\n",
       "      <td>4.0</td>\n",
       "      <td>18</td>\n",
       "      <td>2020</td>\n",
       "      <td>Bắc Giang</td>\n",
       "      <td>21.50</td>\n",
       "      <td>NaN</td>\n",
       "      <td>24.70</td>\n",
       "      <td>21.7</td>\n",
       "      <td>NaN</td>\n",
       "      <td>18.70</td>\n",
       "    </tr>\n",
       "    <tr>\n",
       "      <th>...</th>\n",
       "      <td>...</td>\n",
       "      <td>...</td>\n",
       "      <td>...</td>\n",
       "      <td>...</td>\n",
       "      <td>...</td>\n",
       "      <td>...</td>\n",
       "      <td>...</td>\n",
       "      <td>...</td>\n",
       "      <td>...</td>\n",
       "      <td>...</td>\n",
       "      <td>...</td>\n",
       "      <td>...</td>\n",
       "      <td>...</td>\n",
       "      <td>...</td>\n",
       "      <td>...</td>\n",
       "      <td>...</td>\n",
       "      <td>...</td>\n",
       "      <td>...</td>\n",
       "      <td>...</td>\n",
       "    </tr>\n",
       "    <tr>\n",
       "      <th>4932387</th>\n",
       "      <td>64007282</td>\n",
       "      <td>4.2</td>\n",
       "      <td>6.00</td>\n",
       "      <td>NaN</td>\n",
       "      <td>NaN</td>\n",
       "      <td>NaN</td>\n",
       "      <td>5.25</td>\n",
       "      <td>6.25</td>\n",
       "      <td>7.50</td>\n",
       "      <td>3.0</td>\n",
       "      <td>64</td>\n",
       "      <td>2024</td>\n",
       "      <td>NaN</td>\n",
       "      <td>NaN</td>\n",
       "      <td>19.00</td>\n",
       "      <td>NaN</td>\n",
       "      <td>NaN</td>\n",
       "      <td>17.50</td>\n",
       "      <td>13.20</td>\n",
       "    </tr>\n",
       "    <tr>\n",
       "      <th>4932388</th>\n",
       "      <td>64007283</td>\n",
       "      <td>5.2</td>\n",
       "      <td>6.00</td>\n",
       "      <td>NaN</td>\n",
       "      <td>NaN</td>\n",
       "      <td>NaN</td>\n",
       "      <td>6.25</td>\n",
       "      <td>5.75</td>\n",
       "      <td>7.75</td>\n",
       "      <td>3.6</td>\n",
       "      <td>64</td>\n",
       "      <td>2024</td>\n",
       "      <td>NaN</td>\n",
       "      <td>NaN</td>\n",
       "      <td>19.75</td>\n",
       "      <td>NaN</td>\n",
       "      <td>NaN</td>\n",
       "      <td>18.00</td>\n",
       "      <td>14.80</td>\n",
       "    </tr>\n",
       "    <tr>\n",
       "      <th>4932389</th>\n",
       "      <td>64007284</td>\n",
       "      <td>7.2</td>\n",
       "      <td>8.00</td>\n",
       "      <td>6.25</td>\n",
       "      <td>7.0</td>\n",
       "      <td>8.0</td>\n",
       "      <td>NaN</td>\n",
       "      <td>NaN</td>\n",
       "      <td>NaN</td>\n",
       "      <td>7.0</td>\n",
       "      <td>64</td>\n",
       "      <td>2024</td>\n",
       "      <td>NaN</td>\n",
       "      <td>21.25</td>\n",
       "      <td>NaN</td>\n",
       "      <td>20.45</td>\n",
       "      <td>22.2</td>\n",
       "      <td>NaN</td>\n",
       "      <td>22.20</td>\n",
       "    </tr>\n",
       "    <tr>\n",
       "      <th>4932390</th>\n",
       "      <td>64007285</td>\n",
       "      <td>5.2</td>\n",
       "      <td>5.25</td>\n",
       "      <td>NaN</td>\n",
       "      <td>NaN</td>\n",
       "      <td>NaN</td>\n",
       "      <td>4.75</td>\n",
       "      <td>6.50</td>\n",
       "      <td>8.75</td>\n",
       "      <td>4.4</td>\n",
       "      <td>64</td>\n",
       "      <td>2024</td>\n",
       "      <td>NaN</td>\n",
       "      <td>NaN</td>\n",
       "      <td>20.00</td>\n",
       "      <td>NaN</td>\n",
       "      <td>NaN</td>\n",
       "      <td>16.50</td>\n",
       "      <td>14.85</td>\n",
       "    </tr>\n",
       "    <tr>\n",
       "      <th>4932391</th>\n",
       "      <td>64007286</td>\n",
       "      <td>5.8</td>\n",
       "      <td>8.25</td>\n",
       "      <td>NaN</td>\n",
       "      <td>NaN</td>\n",
       "      <td>NaN</td>\n",
       "      <td>5.00</td>\n",
       "      <td>7.25</td>\n",
       "      <td>8.25</td>\n",
       "      <td>2.8</td>\n",
       "      <td>64</td>\n",
       "      <td>2024</td>\n",
       "      <td>NaN</td>\n",
       "      <td>NaN</td>\n",
       "      <td>20.50</td>\n",
       "      <td>NaN</td>\n",
       "      <td>NaN</td>\n",
       "      <td>20.50</td>\n",
       "      <td>16.85</td>\n",
       "    </tr>\n",
       "  </tbody>\n",
       "</table>\n",
       "<p>4932392 rows × 19 columns</p>\n",
       "</div>"
      ],
      "text/plain": [
       "              sbd  toan  ngu_van  vat_li  hoa_hoc  sinh_hoc  lich_su  dia_li  \\\n",
       "0        18014547   6.4     6.75     NaN      NaN       NaN     4.75    7.00   \n",
       "1        18014530   7.6     6.00     NaN      NaN       NaN     3.75    7.75   \n",
       "2        18014521   4.8     4.75     NaN      NaN       NaN     4.00    6.50   \n",
       "3        18014517   8.0     7.00     NaN      NaN       NaN     8.25    8.00   \n",
       "4        18014523   8.2     6.50    8.00      8.5       5.0      NaN     NaN   \n",
       "...           ...   ...      ...     ...      ...       ...      ...     ...   \n",
       "4932387  64007282   4.2     6.00     NaN      NaN       NaN     5.25    6.25   \n",
       "4932388  64007283   5.2     6.00     NaN      NaN       NaN     6.25    5.75   \n",
       "4932389  64007284   7.2     8.00    6.25      7.0       8.0      NaN     NaN   \n",
       "4932390  64007285   5.2     5.25     NaN      NaN       NaN     4.75    6.50   \n",
       "4932391  64007286   5.8     8.25     NaN      NaN       NaN     5.00    7.25   \n",
       "\n",
       "         gdcd  ngoai_ngu  code  year   province   khtn   khxh  khoi_a  khoi_b  \\\n",
       "0        6.50        4.2    18  2020  Bắc Giang    NaN  18.25     NaN     NaN   \n",
       "1        7.75        2.8    18  2020  Bắc Giang    NaN  19.25     NaN     NaN   \n",
       "2         NaN        NaN    18  2020  Bắc Giang    NaN    NaN     NaN     NaN   \n",
       "3        9.50        5.8    18  2020  Bắc Giang    NaN  25.75     NaN     NaN   \n",
       "4         NaN        4.0    18  2020  Bắc Giang  21.50    NaN   24.70    21.7   \n",
       "...       ...        ...   ...   ...        ...    ...    ...     ...     ...   \n",
       "4932387  7.50        3.0    64  2024        NaN    NaN  19.00     NaN     NaN   \n",
       "4932388  7.75        3.6    64  2024        NaN    NaN  19.75     NaN     NaN   \n",
       "4932389   NaN        7.0    64  2024        NaN  21.25    NaN   20.45    22.2   \n",
       "4932390  8.75        4.4    64  2024        NaN    NaN  20.00     NaN     NaN   \n",
       "4932391  8.25        2.8    64  2024        NaN    NaN  20.50     NaN     NaN   \n",
       "\n",
       "         khoi_c  khoi_d  \n",
       "0         18.50   17.35  \n",
       "1         17.50   16.40  \n",
       "2         15.25     NaN  \n",
       "3         23.25   20.80  \n",
       "4           NaN   18.70  \n",
       "...         ...     ...  \n",
       "4932387   17.50   13.20  \n",
       "4932388   18.00   14.80  \n",
       "4932389     NaN   22.20  \n",
       "4932390   16.50   14.85  \n",
       "4932391   20.50   16.85  \n",
       "\n",
       "[4932392 rows x 19 columns]"
      ]
     },
     "execution_count": 61,
     "metadata": {},
     "output_type": "execute_result"
    }
   ],
   "source": [
    "df_national_high_school_exam_score"
   ]
  },
  {
   "cell_type": "code",
   "execution_count": 62,
   "id": "e56c5431",
   "metadata": {},
   "outputs": [
    {
     "name": "stdout",
     "output_type": "stream",
     "text": [
      "<class 'pandas.core.frame.DataFrame'>\n",
      "RangeIndex: 4932392 entries, 0 to 4932391\n",
      "Data columns (total 19 columns):\n",
      " #   Column     Dtype  \n",
      "---  ------     -----  \n",
      " 0   sbd        int64  \n",
      " 1   toan       float64\n",
      " 2   ngu_van    float64\n",
      " 3   vat_li     float64\n",
      " 4   hoa_hoc    float64\n",
      " 5   sinh_hoc   float64\n",
      " 6   lich_su    float64\n",
      " 7   dia_li     float64\n",
      " 8   gdcd       float64\n",
      " 9   ngoai_ngu  float64\n",
      " 10  code       int64  \n",
      " 11  year       int64  \n",
      " 12  province   object \n",
      " 13  khtn       float64\n",
      " 14  khxh       float64\n",
      " 15  khoi_a     float64\n",
      " 16  khoi_b     float64\n",
      " 17  khoi_c     float64\n",
      " 18  khoi_d     float64\n",
      "dtypes: float64(15), int64(3), object(1)\n",
      "memory usage: 715.0+ MB\n"
     ]
    }
   ],
   "source": [
    "df_national_high_school_exam_score.info()"
   ]
  }
 ],
 "metadata": {
  "kernelspec": {
   "display_name": "Python 3",
   "language": "python",
   "name": "python3"
  },
  "language_info": {
   "codemirror_mode": {
    "name": "ipython",
    "version": 3
   },
   "file_extension": ".py",
   "mimetype": "text/x-python",
   "name": "python",
   "nbconvert_exporter": "python",
   "pygments_lexer": "ipython3",
   "version": "3.11.9"
  }
 },
 "nbformat": 4,
 "nbformat_minor": 5
}
