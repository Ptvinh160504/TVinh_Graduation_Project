{
 "cells": [
  {
   "cell_type": "markdown",
   "id": "2351aa23",
   "metadata": {},
   "source": [
    "### Import Lybrary"
   ]
  },
  {
   "cell_type": "code",
   "execution_count": 14,
   "id": "d38c23c7",
   "metadata": {},
   "outputs": [],
   "source": [
    "import pandas as pd\n",
    "import numpy as np"
   ]
  },
  {
   "cell_type": "code",
   "execution_count": null,
   "id": "eb217ca4",
   "metadata": {},
   "outputs": [],
   "source": [
    "file_list = [\n",
    "    r'C:\\FPT Polytechnic\\Project Tự Làm\\Điểm thi thpt 2020 - 2024\\diem_thi_2020_2021.csv',\n",
    "    r'C:\\FPT Polytechnic\\Project Tự Làm\\Điểm thi thpt 2020 - 2024\\diem_thi_thpt_2022.csv',\n",
    "    r'C:\\FPT Polytechnic\\Project Tự Làm\\Điểm thi thpt 2020 - 2024\\diem_thi_thpt_2023.csv',\n",
    "    r'C:\\FPT Polytechnic\\Project Tự Làm\\Điểm thi thpt 2020 - 2024\\diem_thi_thpt_2024.csv' \n",
    "]\n",
    "df_national_examination_board = pd.read_excel(r\"C:\\FPT Polytechnic\\Project Tự Làm\\Điểm thi thpt 2020 - 2024\\danh_sach_hoi_dong_thi.xlsx\")\n",
    "\n",
    "class NationalHighSchoolExamScore:\n",
    "    def __init__(self, file_paths,df_national_examination_board):\n",
    "        self.file_paths = file_paths\n",
    "        self.dataframes = []\n",
    "        self.df_national_examination_board = df_national_examination_board\n",
    "\n",
    "    def read_data(self):\n",
    "        for path in self.file_paths:\n",
    "            try:\n",
    "                df = pd.read_csv(path)\n",
    "                self.dataframes.append((path, df))\n",
    "                print(f\"Complete reading the file: {path}\")\n",
    "            except Exception as e:\n",
    "                print(f\"Unable to read file {path}: {e}\")\n",
    "\n",
    "    def check_data(self):\n",
    "        if not self.dataframes:\n",
    "            print(\"No data available\")\n",
    "            return\n",
    "\n",
    "        for (path, df) in self.dataframes:\n",
    "            print(f\"\\nCheck data: {path}\")\n",
    "            print(f\"Row numbers: {df.shape[0]}, Column numbers: {df.shape[1]}\")\n",
    "            print(\"Columns:\", list(df.columns))\n",
    "            print(\"Duplicate Values:\", df.duplicated().sum())\n",
    "            print(\"-\" * 60)\n",
    "\n",
    "    def remove_duplicate(self):\n",
    "        if not self.dataframes:\n",
    "            print(\"No data to process.\")\n",
    "            return\n",
    "\n",
    "        for i, (path, df) in enumerate(self.dataframes):\n",
    "            before = df.shape[0]\n",
    "            df_cleaned = df.drop_duplicates()\n",
    "            after = df_cleaned.shape[0]\n",
    "            self.dataframes[i] = (path, df_cleaned)\n",
    "            print(f\"\\nRemove {before - after} duplicate rows from file: {path}\")\n",
    "            \n",
    "    def drop_specific_columns(self, columns_to_drop_by_file):\n",
    "        if not self.dataframes:\n",
    "            print(\"No data to process.\")\n",
    "            return\n",
    "        \n",
    "        for i, (path, df) in enumerate(self.dataframes):\n",
    "            for keyword, columns in columns_to_drop_by_file.items():\n",
    "                if keyword in path:\n",
    "                    existing_cols = [col for col in columns if col in df.columns]\n",
    "                    df = df.drop(columns=existing_cols)\n",
    "                    self.dataframes[i] = (path, df)\n",
    "                    print(f\"\\nDropped columns from file {path}: {existing_cols if existing_cols else 'No matching columns found'}\")\n",
    "                    break \n",
    "    def rename_columns(self, rename_rules_by_file):\n",
    "        if not self.dataframes:\n",
    "            print(\"No data to process.\")\n",
    "            return\n",
    "\n",
    "        for i, (path, df) in enumerate(self.dataframes):\n",
    "            for keyword, rename_map in rename_rules_by_file.items():\n",
    "                if keyword in path:\n",
    "                    existing_renames = {old: new for old, new in rename_map.items() if old in df.columns}\n",
    "                    df = df.rename(columns=existing_renames)\n",
    "                    self.dataframes[i] = (path, df)\n",
    "                    print(f\"\\nRenamed columns in file {path}: {existing_renames if existing_renames else 'No matching columns to rename'}\")\n",
    "                    break\n",
    "    def add_column_code_year_khtn_khxh(self):\n",
    "        if not self.dataframes:\n",
    "            print(\"No data to process.\")\n",
    "            return\n",
    "\n",
    "        start_year = 2020\n",
    "\n",
    "        for i, (path, df) in enumerate(self.dataframes):\n",
    "            print(f\"\\nProcessing file: {path}\")\n",
    "\n",
    "            # Thêm cột 'code' nếu chưa có\n",
    "            if 'code' not in df.columns:\n",
    "                if 'sbd' in df.columns:\n",
    "                    try:\n",
    "                        df['code'] = df['sbd'].astype(str).str[:2].astype(int)\n",
    "                        print(\"Added column 'code'\")\n",
    "                    except Exception as e:\n",
    "                        print(f\"Error adding 'code': {e}\")\n",
    "                else:\n",
    "                    print(\"'sbd' column not found.\")\n",
    "            else:\n",
    "                print(\"'code' already exists.\")\n",
    "\n",
    "            # Thêm cột 'year' nếu chưa có\n",
    "            if 'year' not in df.columns:\n",
    "                df['year'] = start_year + i\n",
    "                print(f\"Added column 'year' = {start_year + i}\")\n",
    "\n",
    "            # Thêm cột 'khtn'\n",
    "            cols_khtn = ['vat_li', 'hoa_hoc', 'sinh_hoc']\n",
    "            if all(col in df.columns for col in cols_khtn):\n",
    "                df['khtn'] = df[cols_khtn].sum(axis=1)\n",
    "                df['khtn'] = df['khtn'].where(df[cols_khtn].notnull().all(axis=1))\n",
    "                print(\"Added column 'khtn'\")\n",
    "            else:\n",
    "                print(f\"Missing KHTN columns: {', '.join([col for col in cols_khtn if col not in df.columns])}\")\n",
    "\n",
    "            # Thêm cột 'khxh'\n",
    "            cols_khxh = ['lich_su', 'dia_li', 'gdcd']\n",
    "            if all(col in df.columns for col in cols_khxh):\n",
    "                df['khxh'] = df[cols_khxh].sum(axis=1)\n",
    "                df['khxh'] = df['khxh'].where(df[cols_khxh].notnull().all(axis=1))\n",
    "                print(\"Added column 'khxh'\")\n",
    "            else:\n",
    "                print(f\"Missing KHXH columns: {', '.join([col for col in cols_khxh if col not in df.columns])}\")\n",
    "\n",
    "            # Cập nhật lại\n",
    "            self.dataframes[i] = (path, df)\n",
    "\n",
    "\n",
    "\n",
    "    def check_data_column_year(self):\n",
    "        if not self.dataframes:\n",
    "            print(\"No data to process\")\n",
    "            return\n",
    "        for path, df in self.dataframes:\n",
    "            print(df[\"year\"].unique())\n",
    "\n",
    "    def reorder_all_columns(self):\n",
    "            if not self.dataframes:\n",
    "                print(\"No data to process.\")\n",
    "                return\n",
    "\n",
    "            desired_order = [\n",
    "                'sbd', 'toan', 'ngu_van', 'vat_li', 'hoa_hoc', 'sinh_hoc',\n",
    "                'lich_su', 'dia_li', 'gdcd', 'ngoai_ngu','code', 'khtn',\n",
    "                'khxh', 'year'\n",
    "            ]\n",
    "\n",
    "            for i, (path, df) in enumerate(self.dataframes):\n",
    "                existing = [col for col in desired_order if col in df.columns]\n",
    "                remaining = [col for col in df.columns if col not in desired_order]\n",
    "                new_order = existing + remaining\n",
    "                df = df[new_order]\n",
    "                self.dataframes[i] = (path, df)\n",
    "                print(f\"Successfully reordered columns for the file: {path}\")\n",
    "        \n",
    "    def concat_all(self, save_path=\"C:\\FPT Polytechnic\\Project Tự Làm\\Điểm thi thpt 2020 - 2024\\processed.csv\"):\n",
    "        if not self.dataframes:\n",
    "            print(\"No data available to concatenate.\")\n",
    "            return None\n",
    "\n",
    "        try:\n",
    "            all_dfs = [df for _, df in self.dataframes]\n",
    "            df_concat = pd.concat(all_dfs, ignore_index=True)\n",
    "            df_concat.to_csv(save_path, index=False, encoding='utf-8-sig')\n",
    "            print(f\"Successfully concatenated {len(all_dfs)} DataFrames.\")\n",
    "            print(f\"File saved to: {save_path}\")\n",
    "            return df_concat\n",
    "        except Exception as e:\n",
    "            print(f\"Error during concatenation: {e}\")\n",
    "            return None\n",
    "\n"
   ]
  },
  {
   "cell_type": "code",
   "execution_count": 16,
   "id": "ee4a5e1e",
   "metadata": {},
   "outputs": [],
   "source": [
    "data = NationalHighSchoolExamScore(file_list,df_national_examination_board)"
   ]
  },
  {
   "cell_type": "markdown",
   "id": "e9cfc1a8",
   "metadata": {},
   "source": [
    "#### Read Data CSV"
   ]
  },
  {
   "cell_type": "code",
   "execution_count": 17,
   "id": "a49a4eb7",
   "metadata": {},
   "outputs": [
    {
     "name": "stderr",
     "output_type": "stream",
     "text": [
      "C:\\Users\\Phi Huynh\\AppData\\Local\\Temp\\ipykernel_15948\\2416130667.py:18: DtypeWarning: Columns (1,2,3) have mixed types. Specify dtype option on import or set low_memory=False.\n",
      "  df = pd.read_csv(path)\n"
     ]
    },
    {
     "name": "stdout",
     "output_type": "stream",
     "text": [
      "Complete reading the file: C:\\FPT Polytechnic\\Project Tự Làm\\Điểm thi thpt 2020 - 2024\\diem_thi_2020_2021.csv\n",
      "Complete reading the file: C:\\FPT Polytechnic\\Project Tự Làm\\Điểm thi thpt 2020 - 2024\\diem_thi_thpt_2022.csv\n",
      "Complete reading the file: C:\\FPT Polytechnic\\Project Tự Làm\\Điểm thi thpt 2020 - 2024\\diem_thi_thpt_2023.csv\n",
      "Complete reading the file: C:\\FPT Polytechnic\\Project Tự Làm\\Điểm thi thpt 2020 - 2024\\diem_thi_thpt_2024.csv\n"
     ]
    }
   ],
   "source": [
    "data.read_data()"
   ]
  },
  {
   "cell_type": "markdown",
   "id": "234d6a84",
   "metadata": {},
   "source": [
    "#### Check Information Data"
   ]
  },
  {
   "cell_type": "code",
   "execution_count": 18,
   "id": "c526031c",
   "metadata": {},
   "outputs": [
    {
     "name": "stdout",
     "output_type": "stream",
     "text": [
      "\n",
      "Check data: C:\\FPT Polytechnic\\Project Tự Làm\\Điểm thi thpt 2020 - 2024\\diem_thi_2020_2021.csv\n",
      "Row numbers: 1857877, Column numbers: 16\n",
      "Columns: ['SBD', 'Tên', 'Ngày Sinh', 'Giới tính', 'Toán', 'Văn', 'Lý', 'Hoá', 'Sinh', 'Lịch Sử', 'Địa Lý', 'GDCD', 'Ngoại Ngữ', 'Year', 'code', 'province']\n",
      "Duplicate Values: 4591\n",
      "------------------------------------------------------------\n",
      "\n",
      "Check data: C:\\FPT Polytechnic\\Project Tự Làm\\Điểm thi thpt 2020 - 2024\\diem_thi_thpt_2022.csv\n",
      "Row numbers: 995441, Column numbers: 10\n",
      "Columns: ['sbd', 'toan', 'ngu_van', 'ngoai_ngu', 'vat_li', 'hoa_hoc', 'sinh_hoc', 'lich_su', 'dia_li', 'gdcd']\n",
      "Duplicate Values: 0\n",
      "------------------------------------------------------------\n",
      "\n",
      "Check data: C:\\FPT Polytechnic\\Project Tự Làm\\Điểm thi thpt 2020 - 2024\\diem_thi_thpt_2023.csv\n",
      "Row numbers: 1022060, Column numbers: 11\n",
      "Columns: ['sbd', 'toan', 'ngu_van', 'ngoai_ngu', 'vat_li', 'hoa_hoc', 'sinh_hoc', 'lich_su', 'dia_li', 'gdcd', 'ma_ngoai_ngu']\n",
      "Duplicate Values: 0\n",
      "------------------------------------------------------------\n",
      "\n",
      "Check data: C:\\FPT Polytechnic\\Project Tự Làm\\Điểm thi thpt 2020 - 2024\\diem_thi_thpt_2024.csv\n",
      "Row numbers: 1061605, Column numbers: 11\n",
      "Columns: ['sbd', 'toan', 'ngu_van', 'ngoai_ngu', 'vat_li', 'hoa_hoc', 'sinh_hoc', 'lich_su', 'dia_li', 'gdcd', 'ma_ngoai_ngu']\n",
      "Duplicate Values: 0\n",
      "------------------------------------------------------------\n"
     ]
    }
   ],
   "source": [
    "data.check_data()"
   ]
  },
  {
   "cell_type": "markdown",
   "id": "f6d20120",
   "metadata": {},
   "source": [
    "#### Remove Lines Duplicate"
   ]
  },
  {
   "cell_type": "code",
   "execution_count": 19,
   "id": "4dbeca84",
   "metadata": {},
   "outputs": [
    {
     "name": "stdout",
     "output_type": "stream",
     "text": [
      "\n",
      "Remove 4591 duplicate rows from file: C:\\FPT Polytechnic\\Project Tự Làm\\Điểm thi thpt 2020 - 2024\\diem_thi_2020_2021.csv\n",
      "\n",
      "Remove 0 duplicate rows from file: C:\\FPT Polytechnic\\Project Tự Làm\\Điểm thi thpt 2020 - 2024\\diem_thi_thpt_2022.csv\n",
      "\n",
      "Remove 0 duplicate rows from file: C:\\FPT Polytechnic\\Project Tự Làm\\Điểm thi thpt 2020 - 2024\\diem_thi_thpt_2023.csv\n",
      "\n",
      "Remove 0 duplicate rows from file: C:\\FPT Polytechnic\\Project Tự Làm\\Điểm thi thpt 2020 - 2024\\diem_thi_thpt_2024.csv\n"
     ]
    }
   ],
   "source": [
    "data.remove_duplicate()"
   ]
  },
  {
   "cell_type": "markdown",
   "id": "52309f9a",
   "metadata": {},
   "source": [
    "#### Check Information Data"
   ]
  },
  {
   "cell_type": "code",
   "execution_count": 20,
   "id": "974a9470",
   "metadata": {},
   "outputs": [
    {
     "name": "stdout",
     "output_type": "stream",
     "text": [
      "\n",
      "Check data: C:\\FPT Polytechnic\\Project Tự Làm\\Điểm thi thpt 2020 - 2024\\diem_thi_2020_2021.csv\n",
      "Row numbers: 1853286, Column numbers: 16\n",
      "Columns: ['SBD', 'Tên', 'Ngày Sinh', 'Giới tính', 'Toán', 'Văn', 'Lý', 'Hoá', 'Sinh', 'Lịch Sử', 'Địa Lý', 'GDCD', 'Ngoại Ngữ', 'Year', 'code', 'province']\n",
      "Duplicate Values: 0\n",
      "------------------------------------------------------------\n",
      "\n",
      "Check data: C:\\FPT Polytechnic\\Project Tự Làm\\Điểm thi thpt 2020 - 2024\\diem_thi_thpt_2022.csv\n",
      "Row numbers: 995441, Column numbers: 10\n",
      "Columns: ['sbd', 'toan', 'ngu_van', 'ngoai_ngu', 'vat_li', 'hoa_hoc', 'sinh_hoc', 'lich_su', 'dia_li', 'gdcd']\n",
      "Duplicate Values: 0\n",
      "------------------------------------------------------------\n",
      "\n",
      "Check data: C:\\FPT Polytechnic\\Project Tự Làm\\Điểm thi thpt 2020 - 2024\\diem_thi_thpt_2023.csv\n",
      "Row numbers: 1022060, Column numbers: 11\n",
      "Columns: ['sbd', 'toan', 'ngu_van', 'ngoai_ngu', 'vat_li', 'hoa_hoc', 'sinh_hoc', 'lich_su', 'dia_li', 'gdcd', 'ma_ngoai_ngu']\n",
      "Duplicate Values: 0\n",
      "------------------------------------------------------------\n",
      "\n",
      "Check data: C:\\FPT Polytechnic\\Project Tự Làm\\Điểm thi thpt 2020 - 2024\\diem_thi_thpt_2024.csv\n",
      "Row numbers: 1061605, Column numbers: 11\n",
      "Columns: ['sbd', 'toan', 'ngu_van', 'ngoai_ngu', 'vat_li', 'hoa_hoc', 'sinh_hoc', 'lich_su', 'dia_li', 'gdcd', 'ma_ngoai_ngu']\n",
      "Duplicate Values: 0\n",
      "------------------------------------------------------------\n"
     ]
    }
   ],
   "source": [
    "data.check_data()"
   ]
  },
  {
   "cell_type": "markdown",
   "id": "d720e9c6",
   "metadata": {},
   "source": [
    "#### Drop Columns Specific"
   ]
  },
  {
   "cell_type": "code",
   "execution_count": 21,
   "id": "5000768d",
   "metadata": {},
   "outputs": [
    {
     "name": "stdout",
     "output_type": "stream",
     "text": [
      "\n",
      "Dropped columns from file C:\\FPT Polytechnic\\Project Tự Làm\\Điểm thi thpt 2020 - 2024\\diem_thi_2020_2021.csv: ['Tên', 'Ngày Sinh', 'Giới tính']\n",
      "\n",
      "Dropped columns from file C:\\FPT Polytechnic\\Project Tự Làm\\Điểm thi thpt 2020 - 2024\\diem_thi_thpt_2022.csv: No matching columns found\n",
      "\n",
      "Dropped columns from file C:\\FPT Polytechnic\\Project Tự Làm\\Điểm thi thpt 2020 - 2024\\diem_thi_thpt_2023.csv: ['ma_ngoai_ngu']\n",
      "\n",
      "Dropped columns from file C:\\FPT Polytechnic\\Project Tự Làm\\Điểm thi thpt 2020 - 2024\\diem_thi_thpt_2024.csv: ['ma_ngoai_ngu']\n"
     ]
    }
   ],
   "source": [
    "columns_to_drop = {\n",
    "    \"2020_2021\": [\"Tên\", \"Ngày Sinh\", \"Giới tính\"],\n",
    "    \"2023\": [\"ma_ngoai_ngu\"],\n",
    "    \"2024\": [\"ma_ngoai_ngu\"]\n",
    "}\n",
    "data.drop_specific_columns(columns_to_drop)"
   ]
  },
  {
   "cell_type": "markdown",
   "id": "5f17d081",
   "metadata": {},
   "source": [
    "#### Check Information Data"
   ]
  },
  {
   "cell_type": "code",
   "execution_count": 22,
   "id": "1abbb03a",
   "metadata": {},
   "outputs": [
    {
     "name": "stdout",
     "output_type": "stream",
     "text": [
      "\n",
      "Check data: C:\\FPT Polytechnic\\Project Tự Làm\\Điểm thi thpt 2020 - 2024\\diem_thi_2020_2021.csv\n",
      "Row numbers: 1853286, Column numbers: 13\n",
      "Columns: ['SBD', 'Toán', 'Văn', 'Lý', 'Hoá', 'Sinh', 'Lịch Sử', 'Địa Lý', 'GDCD', 'Ngoại Ngữ', 'Year', 'code', 'province']\n",
      "Duplicate Values: 0\n",
      "------------------------------------------------------------\n",
      "\n",
      "Check data: C:\\FPT Polytechnic\\Project Tự Làm\\Điểm thi thpt 2020 - 2024\\diem_thi_thpt_2022.csv\n",
      "Row numbers: 995441, Column numbers: 10\n",
      "Columns: ['sbd', 'toan', 'ngu_van', 'ngoai_ngu', 'vat_li', 'hoa_hoc', 'sinh_hoc', 'lich_su', 'dia_li', 'gdcd']\n",
      "Duplicate Values: 0\n",
      "------------------------------------------------------------\n",
      "\n",
      "Check data: C:\\FPT Polytechnic\\Project Tự Làm\\Điểm thi thpt 2020 - 2024\\diem_thi_thpt_2023.csv\n",
      "Row numbers: 1022060, Column numbers: 10\n",
      "Columns: ['sbd', 'toan', 'ngu_van', 'ngoai_ngu', 'vat_li', 'hoa_hoc', 'sinh_hoc', 'lich_su', 'dia_li', 'gdcd']\n",
      "Duplicate Values: 0\n",
      "------------------------------------------------------------\n",
      "\n",
      "Check data: C:\\FPT Polytechnic\\Project Tự Làm\\Điểm thi thpt 2020 - 2024\\diem_thi_thpt_2024.csv\n",
      "Row numbers: 1061605, Column numbers: 10\n",
      "Columns: ['sbd', 'toan', 'ngu_van', 'ngoai_ngu', 'vat_li', 'hoa_hoc', 'sinh_hoc', 'lich_su', 'dia_li', 'gdcd']\n",
      "Duplicate Values: 0\n",
      "------------------------------------------------------------\n"
     ]
    }
   ],
   "source": [
    "data.check_data()"
   ]
  },
  {
   "cell_type": "markdown",
   "id": "c4221835",
   "metadata": {},
   "source": [
    "#### Rename Column"
   ]
  },
  {
   "cell_type": "code",
   "execution_count": 23,
   "id": "a39c63b8",
   "metadata": {},
   "outputs": [
    {
     "name": "stdout",
     "output_type": "stream",
     "text": [
      "\n",
      "Renamed columns in file C:\\FPT Polytechnic\\Project Tự Làm\\Điểm thi thpt 2020 - 2024\\diem_thi_2020_2021.csv: {'SBD': 'sbd', 'Toán': 'toan', 'Văn': 'ngu_van', 'Ngoại Ngữ': 'ngoai_ngu', 'Lý': 'vat_li', 'Hoá': 'hoa_hoc', 'Sinh': 'sinh_hoc', 'Lịch Sử': 'lich_su', 'Địa Lý': 'dia_li', 'GDCD': 'gdcd', 'Year': 'year'}\n"
     ]
    }
   ],
   "source": [
    "data.rename_columns({\n",
    "    \"2020_2021\": {\"SBD\": \"sbd\", \"Toán\": \"toan\", \"Văn\": \"ngu_van\", \"Ngoại Ngữ\": \"ngoai_ngu\", \"Lý\": \"vat_li\", \"Hoá\": \"hoa_hoc\", \n",
    "                  \"Sinh\": \"sinh_hoc\", \"Lịch Sử\": \"lich_su\", \"Địa Lý\": \"dia_li\", \"GDCD\": \"gdcd\", \"Year\": \"year\"}\n",
    "})\n"
   ]
  },
  {
   "cell_type": "markdown",
   "id": "41fa9df5",
   "metadata": {},
   "source": [
    "#### Check Information Data"
   ]
  },
  {
   "cell_type": "code",
   "execution_count": 24,
   "id": "2219e294",
   "metadata": {},
   "outputs": [
    {
     "name": "stdout",
     "output_type": "stream",
     "text": [
      "\n",
      "Check data: C:\\FPT Polytechnic\\Project Tự Làm\\Điểm thi thpt 2020 - 2024\\diem_thi_2020_2021.csv\n",
      "Row numbers: 1853286, Column numbers: 13\n",
      "Columns: ['sbd', 'toan', 'ngu_van', 'vat_li', 'hoa_hoc', 'sinh_hoc', 'lich_su', 'dia_li', 'gdcd', 'ngoai_ngu', 'year', 'code', 'province']\n",
      "Duplicate Values: 0\n",
      "------------------------------------------------------------\n",
      "\n",
      "Check data: C:\\FPT Polytechnic\\Project Tự Làm\\Điểm thi thpt 2020 - 2024\\diem_thi_thpt_2022.csv\n",
      "Row numbers: 995441, Column numbers: 10\n",
      "Columns: ['sbd', 'toan', 'ngu_van', 'ngoai_ngu', 'vat_li', 'hoa_hoc', 'sinh_hoc', 'lich_su', 'dia_li', 'gdcd']\n",
      "Duplicate Values: 0\n",
      "------------------------------------------------------------\n",
      "\n",
      "Check data: C:\\FPT Polytechnic\\Project Tự Làm\\Điểm thi thpt 2020 - 2024\\diem_thi_thpt_2023.csv\n",
      "Row numbers: 1022060, Column numbers: 10\n",
      "Columns: ['sbd', 'toan', 'ngu_van', 'ngoai_ngu', 'vat_li', 'hoa_hoc', 'sinh_hoc', 'lich_su', 'dia_li', 'gdcd']\n",
      "Duplicate Values: 0\n",
      "------------------------------------------------------------\n",
      "\n",
      "Check data: C:\\FPT Polytechnic\\Project Tự Làm\\Điểm thi thpt 2020 - 2024\\diem_thi_thpt_2024.csv\n",
      "Row numbers: 1061605, Column numbers: 10\n",
      "Columns: ['sbd', 'toan', 'ngu_van', 'ngoai_ngu', 'vat_li', 'hoa_hoc', 'sinh_hoc', 'lich_su', 'dia_li', 'gdcd']\n",
      "Duplicate Values: 0\n",
      "------------------------------------------------------------\n"
     ]
    }
   ],
   "source": [
    "data.check_data()"
   ]
  },
  {
   "cell_type": "markdown",
   "id": "c608fe78",
   "metadata": {},
   "source": [
    "#### Add Columns Code And Year"
   ]
  },
  {
   "cell_type": "code",
   "execution_count": 25,
   "id": "618c9e49",
   "metadata": {},
   "outputs": [
    {
     "name": "stdout",
     "output_type": "stream",
     "text": [
      "\n",
      "📄 Processing file: C:\\FPT Polytechnic\\Project Tự Làm\\Điểm thi thpt 2020 - 2024\\diem_thi_2020_2021.csv\n",
      "ℹ️ 'code' already exists.\n",
      "✅ Added column 'khtn'\n",
      "✅ Added column 'khxh'\n",
      "\n",
      "📄 Processing file: C:\\FPT Polytechnic\\Project Tự Làm\\Điểm thi thpt 2020 - 2024\\diem_thi_thpt_2022.csv\n",
      "✅ Added column 'code'\n",
      "✅ Added column 'year' = 2021\n",
      "✅ Added column 'khtn'\n",
      "✅ Added column 'khxh'\n",
      "\n",
      "📄 Processing file: C:\\FPT Polytechnic\\Project Tự Làm\\Điểm thi thpt 2020 - 2024\\diem_thi_thpt_2023.csv\n",
      "✅ Added column 'code'\n",
      "✅ Added column 'year' = 2022\n",
      "✅ Added column 'khtn'\n",
      "✅ Added column 'khxh'\n",
      "\n",
      "📄 Processing file: C:\\FPT Polytechnic\\Project Tự Làm\\Điểm thi thpt 2020 - 2024\\diem_thi_thpt_2024.csv\n",
      "✅ Added column 'code'\n",
      "✅ Added column 'year' = 2023\n",
      "✅ Added column 'khtn'\n",
      "✅ Added column 'khxh'\n"
     ]
    }
   ],
   "source": [
    "data.add_column_code_year_khtn_khxh()"
   ]
  },
  {
   "cell_type": "markdown",
   "id": "daa22cac",
   "metadata": {},
   "source": [
    "#### Check Information Data"
   ]
  },
  {
   "cell_type": "code",
   "execution_count": 26,
   "id": "43cc6210",
   "metadata": {},
   "outputs": [
    {
     "name": "stdout",
     "output_type": "stream",
     "text": [
      "[2020 2021]\n",
      "[2021]\n",
      "[2022]\n",
      "[2023]\n"
     ]
    }
   ],
   "source": [
    "data.check_data_column_year()"
   ]
  },
  {
   "cell_type": "markdown",
   "id": "fa74347a",
   "metadata": {},
   "source": [
    "#### Reorder The Columns"
   ]
  },
  {
   "cell_type": "code",
   "execution_count": 27,
   "id": "7aa3902c",
   "metadata": {},
   "outputs": [
    {
     "name": "stdout",
     "output_type": "stream",
     "text": [
      "Successfully reordered columns for the file: C:\\FPT Polytechnic\\Project Tự Làm\\Điểm thi thpt 2020 - 2024\\diem_thi_2020_2021.csv\n",
      "Successfully reordered columns for the file: C:\\FPT Polytechnic\\Project Tự Làm\\Điểm thi thpt 2020 - 2024\\diem_thi_thpt_2022.csv\n",
      "Successfully reordered columns for the file: C:\\FPT Polytechnic\\Project Tự Làm\\Điểm thi thpt 2020 - 2024\\diem_thi_thpt_2023.csv\n",
      "Successfully reordered columns for the file: C:\\FPT Polytechnic\\Project Tự Làm\\Điểm thi thpt 2020 - 2024\\diem_thi_thpt_2024.csv\n"
     ]
    }
   ],
   "source": [
    "data.reorder_all_columns()"
   ]
  },
  {
   "cell_type": "markdown",
   "id": "f4af249d",
   "metadata": {},
   "source": [
    "#### Check Information Data"
   ]
  },
  {
   "cell_type": "code",
   "execution_count": 28,
   "id": "6f31830e",
   "metadata": {},
   "outputs": [
    {
     "name": "stdout",
     "output_type": "stream",
     "text": [
      "\n",
      "Check data: C:\\FPT Polytechnic\\Project Tự Làm\\Điểm thi thpt 2020 - 2024\\diem_thi_2020_2021.csv\n",
      "Row numbers: 1853286, Column numbers: 15\n",
      "Columns: ['sbd', 'toan', 'ngu_van', 'vat_li', 'hoa_hoc', 'sinh_hoc', 'lich_su', 'dia_li', 'gdcd', 'ngoai_ngu', 'code', 'khtn', 'khxh', 'year', 'province']\n",
      "Duplicate Values: 0\n",
      "------------------------------------------------------------\n",
      "\n",
      "Check data: C:\\FPT Polytechnic\\Project Tự Làm\\Điểm thi thpt 2020 - 2024\\diem_thi_thpt_2022.csv\n",
      "Row numbers: 995441, Column numbers: 14\n",
      "Columns: ['sbd', 'toan', 'ngu_van', 'vat_li', 'hoa_hoc', 'sinh_hoc', 'lich_su', 'dia_li', 'gdcd', 'ngoai_ngu', 'code', 'khtn', 'khxh', 'year']\n",
      "Duplicate Values: 0\n",
      "------------------------------------------------------------\n",
      "\n",
      "Check data: C:\\FPT Polytechnic\\Project Tự Làm\\Điểm thi thpt 2020 - 2024\\diem_thi_thpt_2023.csv\n",
      "Row numbers: 1022060, Column numbers: 14\n",
      "Columns: ['sbd', 'toan', 'ngu_van', 'vat_li', 'hoa_hoc', 'sinh_hoc', 'lich_su', 'dia_li', 'gdcd', 'ngoai_ngu', 'code', 'khtn', 'khxh', 'year']\n",
      "Duplicate Values: 0\n",
      "------------------------------------------------------------\n",
      "\n",
      "Check data: C:\\FPT Polytechnic\\Project Tự Làm\\Điểm thi thpt 2020 - 2024\\diem_thi_thpt_2024.csv\n",
      "Row numbers: 1061605, Column numbers: 14\n",
      "Columns: ['sbd', 'toan', 'ngu_van', 'vat_li', 'hoa_hoc', 'sinh_hoc', 'lich_su', 'dia_li', 'gdcd', 'ngoai_ngu', 'code', 'khtn', 'khxh', 'year']\n",
      "Duplicate Values: 0\n",
      "------------------------------------------------------------\n"
     ]
    }
   ],
   "source": [
    "data.check_data()"
   ]
  },
  {
   "cell_type": "code",
   "execution_count": 29,
   "id": "58496d2a",
   "metadata": {},
   "outputs": [
    {
     "name": "stdout",
     "output_type": "stream",
     "text": [
      "\n",
      "Dropped columns from file C:\\FPT Polytechnic\\Project Tự Làm\\Điểm thi thpt 2020 - 2024\\diem_thi_2020_2021.csv: ['province']\n"
     ]
    }
   ],
   "source": [
    "data.drop_specific_columns({\n",
    "    \"2020_2021\": [\"province\"]\n",
    "})"
   ]
  },
  {
   "cell_type": "markdown",
   "id": "07c356a9",
   "metadata": {},
   "source": [
    "#### Concat Table"
   ]
  },
  {
   "cell_type": "code",
   "execution_count": 30,
   "id": "6e2c71e1",
   "metadata": {},
   "outputs": [
    {
     "name": "stdout",
     "output_type": "stream",
     "text": [
      "Successfully concatenated 4 DataFrames.\n",
      "File saved to: C:\\FPT Polytechnic\\Project Tự Làm\\Điểm thi thpt 2020 - 2024\\processed.csv\n"
     ]
    }
   ],
   "source": [
    "df_national_high_school_exam_score = data.concat_all()"
   ]
  },
  {
   "cell_type": "markdown",
   "id": "3471836f",
   "metadata": {},
   "source": [
    "#### Check Information Data"
   ]
  },
  {
   "cell_type": "code",
   "execution_count": 31,
   "id": "74b41802",
   "metadata": {},
   "outputs": [
    {
     "name": "stdout",
     "output_type": "stream",
     "text": [
      "<class 'pandas.core.frame.DataFrame'>\n",
      "RangeIndex: 4932392 entries, 0 to 4932391\n",
      "Data columns (total 14 columns):\n",
      " #   Column     Dtype  \n",
      "---  ------     -----  \n",
      " 0   sbd        int64  \n",
      " 1   toan       float64\n",
      " 2   ngu_van    float64\n",
      " 3   vat_li     float64\n",
      " 4   hoa_hoc    float64\n",
      " 5   sinh_hoc   float64\n",
      " 6   lich_su    float64\n",
      " 7   dia_li     float64\n",
      " 8   gdcd       float64\n",
      " 9   ngoai_ngu  float64\n",
      " 10  code       int64  \n",
      " 11  khtn       float64\n",
      " 12  khxh       float64\n",
      " 13  year       int64  \n",
      "dtypes: float64(11), int64(3)\n",
      "memory usage: 526.8 MB\n"
     ]
    }
   ],
   "source": [
    "df_national_high_school_exam_score.info()"
   ]
  },
  {
   "cell_type": "markdown",
   "id": "74486af2",
   "metadata": {},
   "source": [
    "#### Rename column danh_sach_hoi_dong_thi.xlsx"
   ]
  },
  {
   "cell_type": "code",
   "execution_count": 32,
   "id": "6c064620",
   "metadata": {},
   "outputs": [
    {
     "name": "stdout",
     "output_type": "stream",
     "text": [
      "<class 'pandas.core.frame.DataFrame'>\n",
      "RangeIndex: 64 entries, 0 to 63\n",
      "Data columns (total 5 columns):\n",
      " #   Column                      Non-Null Count  Dtype \n",
      "---  ------                      --------------  ----- \n",
      " 0   code                        64 non-null     int64 \n",
      " 1   national examination board  64 non-null     object\n",
      " 2   province                    64 non-null     object\n",
      " 3   Province                    63 non-null     object\n",
      " 4   Regions                     63 non-null     object\n",
      "dtypes: int64(1), object(4)\n",
      "memory usage: 2.6+ KB\n"
     ]
    }
   ],
   "source": [
    "df_national_examination_board.rename(columns={\n",
    "    \"Mã hội đồng\": \"code\",\n",
    "    \"Tên hội đồng thi\": \"national examination board\",\n",
    "    \"Tên Tỉnh\": \"province\"\n",
    "}, inplace=True)\n",
    "\n",
    "df_national_examination_board.to_csv(r\"C:\\FPT Polytechnic\\Graduation_Project\\Data\\Processed\\national_examination_board.csv\", index=False)\n",
    "df_region_of_vietnam = pd.read_excel(r\"C:\\FPT Polytechnic\\Graduation_Project\\Data\\Raw\\Regions_of_VietNam.xlsx\")\n",
    "df_national_examination_board_transform = pd.merge(df_national_examination_board, df_region_of_vietnam, how=\"left\", left_on='province', right_on='Province')\n",
    "df_national_examination_board_transform.info()\n",
    "df_national_examination_board_transform.drop(columns='Province', inplace=True)\n",
    "df_national_examination_board_transform.rename(columns={'Regions': 'regions'}, inplace=True)\n",
    "df_national_examination_board_transform.to_csv(r'C:\\FPT Polytechnic\\Graduation_Project\\Data\\Processed\\national_examination_board_transform.csv', index=False)\n",
    "\n"
   ]
  },
  {
   "cell_type": "markdown",
   "id": "890f2be6",
   "metadata": {},
   "source": []
  },
  {
   "cell_type": "code",
   "execution_count": 33,
   "id": "ddd798e2",
   "metadata": {},
   "outputs": [
    {
     "data": {
      "text/html": [
       "<div>\n",
       "<style scoped>\n",
       "    .dataframe tbody tr th:only-of-type {\n",
       "        vertical-align: middle;\n",
       "    }\n",
       "\n",
       "    .dataframe tbody tr th {\n",
       "        vertical-align: top;\n",
       "    }\n",
       "\n",
       "    .dataframe thead th {\n",
       "        text-align: right;\n",
       "    }\n",
       "</style>\n",
       "<table border=\"1\" class=\"dataframe\">\n",
       "  <thead>\n",
       "    <tr style=\"text-align: right;\">\n",
       "      <th></th>\n",
       "      <th>sbd</th>\n",
       "      <th>toan</th>\n",
       "      <th>ngu_van</th>\n",
       "      <th>vat_li</th>\n",
       "      <th>hoa_hoc</th>\n",
       "      <th>sinh_hoc</th>\n",
       "      <th>lich_su</th>\n",
       "      <th>dia_li</th>\n",
       "      <th>gdcd</th>\n",
       "      <th>ngoai_ngu</th>\n",
       "      <th>code</th>\n",
       "      <th>khtn</th>\n",
       "      <th>khxh</th>\n",
       "      <th>year</th>\n",
       "    </tr>\n",
       "  </thead>\n",
       "  <tbody>\n",
       "    <tr>\n",
       "      <th>0</th>\n",
       "      <td>18014547</td>\n",
       "      <td>6.4</td>\n",
       "      <td>6.75</td>\n",
       "      <td>NaN</td>\n",
       "      <td>NaN</td>\n",
       "      <td>NaN</td>\n",
       "      <td>4.75</td>\n",
       "      <td>7.00</td>\n",
       "      <td>6.50</td>\n",
       "      <td>4.2</td>\n",
       "      <td>18</td>\n",
       "      <td>NaN</td>\n",
       "      <td>18.25</td>\n",
       "      <td>2020</td>\n",
       "    </tr>\n",
       "    <tr>\n",
       "      <th>1</th>\n",
       "      <td>18014530</td>\n",
       "      <td>7.6</td>\n",
       "      <td>6.00</td>\n",
       "      <td>NaN</td>\n",
       "      <td>NaN</td>\n",
       "      <td>NaN</td>\n",
       "      <td>3.75</td>\n",
       "      <td>7.75</td>\n",
       "      <td>7.75</td>\n",
       "      <td>2.8</td>\n",
       "      <td>18</td>\n",
       "      <td>NaN</td>\n",
       "      <td>19.25</td>\n",
       "      <td>2020</td>\n",
       "    </tr>\n",
       "    <tr>\n",
       "      <th>2</th>\n",
       "      <td>18014521</td>\n",
       "      <td>4.8</td>\n",
       "      <td>4.75</td>\n",
       "      <td>NaN</td>\n",
       "      <td>NaN</td>\n",
       "      <td>NaN</td>\n",
       "      <td>4.00</td>\n",
       "      <td>6.50</td>\n",
       "      <td>NaN</td>\n",
       "      <td>NaN</td>\n",
       "      <td>18</td>\n",
       "      <td>NaN</td>\n",
       "      <td>NaN</td>\n",
       "      <td>2020</td>\n",
       "    </tr>\n",
       "    <tr>\n",
       "      <th>3</th>\n",
       "      <td>18014517</td>\n",
       "      <td>8.0</td>\n",
       "      <td>7.00</td>\n",
       "      <td>NaN</td>\n",
       "      <td>NaN</td>\n",
       "      <td>NaN</td>\n",
       "      <td>8.25</td>\n",
       "      <td>8.00</td>\n",
       "      <td>9.50</td>\n",
       "      <td>5.8</td>\n",
       "      <td>18</td>\n",
       "      <td>NaN</td>\n",
       "      <td>25.75</td>\n",
       "      <td>2020</td>\n",
       "    </tr>\n",
       "    <tr>\n",
       "      <th>4</th>\n",
       "      <td>18014523</td>\n",
       "      <td>8.2</td>\n",
       "      <td>6.50</td>\n",
       "      <td>8.00</td>\n",
       "      <td>8.5</td>\n",
       "      <td>5.0</td>\n",
       "      <td>NaN</td>\n",
       "      <td>NaN</td>\n",
       "      <td>NaN</td>\n",
       "      <td>4.0</td>\n",
       "      <td>18</td>\n",
       "      <td>21.50</td>\n",
       "      <td>NaN</td>\n",
       "      <td>2020</td>\n",
       "    </tr>\n",
       "    <tr>\n",
       "      <th>...</th>\n",
       "      <td>...</td>\n",
       "      <td>...</td>\n",
       "      <td>...</td>\n",
       "      <td>...</td>\n",
       "      <td>...</td>\n",
       "      <td>...</td>\n",
       "      <td>...</td>\n",
       "      <td>...</td>\n",
       "      <td>...</td>\n",
       "      <td>...</td>\n",
       "      <td>...</td>\n",
       "      <td>...</td>\n",
       "      <td>...</td>\n",
       "      <td>...</td>\n",
       "    </tr>\n",
       "    <tr>\n",
       "      <th>4932387</th>\n",
       "      <td>64007282</td>\n",
       "      <td>4.2</td>\n",
       "      <td>6.00</td>\n",
       "      <td>NaN</td>\n",
       "      <td>NaN</td>\n",
       "      <td>NaN</td>\n",
       "      <td>5.25</td>\n",
       "      <td>6.25</td>\n",
       "      <td>7.50</td>\n",
       "      <td>3.0</td>\n",
       "      <td>64</td>\n",
       "      <td>NaN</td>\n",
       "      <td>19.00</td>\n",
       "      <td>2023</td>\n",
       "    </tr>\n",
       "    <tr>\n",
       "      <th>4932388</th>\n",
       "      <td>64007283</td>\n",
       "      <td>5.2</td>\n",
       "      <td>6.00</td>\n",
       "      <td>NaN</td>\n",
       "      <td>NaN</td>\n",
       "      <td>NaN</td>\n",
       "      <td>6.25</td>\n",
       "      <td>5.75</td>\n",
       "      <td>7.75</td>\n",
       "      <td>3.6</td>\n",
       "      <td>64</td>\n",
       "      <td>NaN</td>\n",
       "      <td>19.75</td>\n",
       "      <td>2023</td>\n",
       "    </tr>\n",
       "    <tr>\n",
       "      <th>4932389</th>\n",
       "      <td>64007284</td>\n",
       "      <td>7.2</td>\n",
       "      <td>8.00</td>\n",
       "      <td>6.25</td>\n",
       "      <td>7.0</td>\n",
       "      <td>8.0</td>\n",
       "      <td>NaN</td>\n",
       "      <td>NaN</td>\n",
       "      <td>NaN</td>\n",
       "      <td>7.0</td>\n",
       "      <td>64</td>\n",
       "      <td>21.25</td>\n",
       "      <td>NaN</td>\n",
       "      <td>2023</td>\n",
       "    </tr>\n",
       "    <tr>\n",
       "      <th>4932390</th>\n",
       "      <td>64007285</td>\n",
       "      <td>5.2</td>\n",
       "      <td>5.25</td>\n",
       "      <td>NaN</td>\n",
       "      <td>NaN</td>\n",
       "      <td>NaN</td>\n",
       "      <td>4.75</td>\n",
       "      <td>6.50</td>\n",
       "      <td>8.75</td>\n",
       "      <td>4.4</td>\n",
       "      <td>64</td>\n",
       "      <td>NaN</td>\n",
       "      <td>20.00</td>\n",
       "      <td>2023</td>\n",
       "    </tr>\n",
       "    <tr>\n",
       "      <th>4932391</th>\n",
       "      <td>64007286</td>\n",
       "      <td>5.8</td>\n",
       "      <td>8.25</td>\n",
       "      <td>NaN</td>\n",
       "      <td>NaN</td>\n",
       "      <td>NaN</td>\n",
       "      <td>5.00</td>\n",
       "      <td>7.25</td>\n",
       "      <td>8.25</td>\n",
       "      <td>2.8</td>\n",
       "      <td>64</td>\n",
       "      <td>NaN</td>\n",
       "      <td>20.50</td>\n",
       "      <td>2023</td>\n",
       "    </tr>\n",
       "  </tbody>\n",
       "</table>\n",
       "<p>4932392 rows × 14 columns</p>\n",
       "</div>"
      ],
      "text/plain": [
       "              sbd  toan  ngu_van  vat_li  hoa_hoc  sinh_hoc  lich_su  dia_li  \\\n",
       "0        18014547   6.4     6.75     NaN      NaN       NaN     4.75    7.00   \n",
       "1        18014530   7.6     6.00     NaN      NaN       NaN     3.75    7.75   \n",
       "2        18014521   4.8     4.75     NaN      NaN       NaN     4.00    6.50   \n",
       "3        18014517   8.0     7.00     NaN      NaN       NaN     8.25    8.00   \n",
       "4        18014523   8.2     6.50    8.00      8.5       5.0      NaN     NaN   \n",
       "...           ...   ...      ...     ...      ...       ...      ...     ...   \n",
       "4932387  64007282   4.2     6.00     NaN      NaN       NaN     5.25    6.25   \n",
       "4932388  64007283   5.2     6.00     NaN      NaN       NaN     6.25    5.75   \n",
       "4932389  64007284   7.2     8.00    6.25      7.0       8.0      NaN     NaN   \n",
       "4932390  64007285   5.2     5.25     NaN      NaN       NaN     4.75    6.50   \n",
       "4932391  64007286   5.8     8.25     NaN      NaN       NaN     5.00    7.25   \n",
       "\n",
       "         gdcd  ngoai_ngu  code   khtn   khxh  year  \n",
       "0        6.50        4.2    18    NaN  18.25  2020  \n",
       "1        7.75        2.8    18    NaN  19.25  2020  \n",
       "2         NaN        NaN    18    NaN    NaN  2020  \n",
       "3        9.50        5.8    18    NaN  25.75  2020  \n",
       "4         NaN        4.0    18  21.50    NaN  2020  \n",
       "...       ...        ...   ...    ...    ...   ...  \n",
       "4932387  7.50        3.0    64    NaN  19.00  2023  \n",
       "4932388  7.75        3.6    64    NaN  19.75  2023  \n",
       "4932389   NaN        7.0    64  21.25    NaN  2023  \n",
       "4932390  8.75        4.4    64    NaN  20.00  2023  \n",
       "4932391  8.25        2.8    64    NaN  20.50  2023  \n",
       "\n",
       "[4932392 rows x 14 columns]"
      ]
     },
     "execution_count": 33,
     "metadata": {},
     "output_type": "execute_result"
    }
   ],
   "source": [
    "df_national_high_school_exam_score"
   ]
  },
  {
   "cell_type": "code",
   "execution_count": 34,
   "id": "e56c5431",
   "metadata": {},
   "outputs": [
    {
     "name": "stdout",
     "output_type": "stream",
     "text": [
      "<class 'pandas.core.frame.DataFrame'>\n",
      "RangeIndex: 4932392 entries, 0 to 4932391\n",
      "Data columns (total 14 columns):\n",
      " #   Column     Dtype  \n",
      "---  ------     -----  \n",
      " 0   sbd        int64  \n",
      " 1   toan       float64\n",
      " 2   ngu_van    float64\n",
      " 3   vat_li     float64\n",
      " 4   hoa_hoc    float64\n",
      " 5   sinh_hoc   float64\n",
      " 6   lich_su    float64\n",
      " 7   dia_li     float64\n",
      " 8   gdcd       float64\n",
      " 9   ngoai_ngu  float64\n",
      " 10  code       int64  \n",
      " 11  khtn       float64\n",
      " 12  khxh       float64\n",
      " 13  year       int64  \n",
      "dtypes: float64(11), int64(3)\n",
      "memory usage: 526.8 MB\n"
     ]
    }
   ],
   "source": [
    "df_national_high_school_exam_score.info()"
   ]
  }
 ],
 "metadata": {
  "kernelspec": {
   "display_name": "Python 3",
   "language": "python",
   "name": "python3"
  },
  "language_info": {
   "codemirror_mode": {
    "name": "ipython",
    "version": 3
   },
   "file_extension": ".py",
   "mimetype": "text/x-python",
   "name": "python",
   "nbconvert_exporter": "python",
   "pygments_lexer": "ipython3",
   "version": "3.11.9"
  }
 },
 "nbformat": 4,
 "nbformat_minor": 5
}
