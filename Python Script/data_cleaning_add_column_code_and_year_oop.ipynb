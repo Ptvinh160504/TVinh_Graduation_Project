{
 "cells": [
  {
   "cell_type": "markdown",
   "id": "c1561c0f",
   "metadata": {},
   "source": [
    "### Add column \"year\", \"code\", \"khtn\", \"khxh"
   ]
  },
  {
   "cell_type": "code",
   "execution_count": null,
   "id": "b3a90197",
   "metadata": {},
   "outputs": [],
   "source": [
    "def add_column_code_year_khtn_khxh(self):\n",
    "    if not self.dataframes:\n",
    "        print(\"No data to process.\")\n",
    "        return\n",
    "\n",
    "    start_year = 2020\n",
    "\n",
    "    for i, (path, df) in enumerate(self.dataframes):\n",
    "        print(f\"\\nProcessing file: {path}\")\n",
    "\n",
    "        # Add column 'code' if not present\n",
    "        if 'code' not in df.columns:\n",
    "            if 'sbd' in df.columns:\n",
    "                try:\n",
    "                    df['code'] = df['sbd'].astype(str).str[:2].astype(int)\n",
    "                    print(\"Added column 'code'\")\n",
    "                except Exception as e:\n",
    "                    print(f\"Error adding 'code': {e}\")\n",
    "            else:\n",
    "                print(\"'sbd' column not found.\")\n",
    "        else:\n",
    "            print(\"'code' already exists.\")\n",
    "\n",
    "        # Add column 'year' if not present\n",
    "        if 'year' not in df.columns:\n",
    "            df['year'] = start_year + i\n",
    "            print(f\"Added column 'year' = {start_year + i}\")\n",
    "\n",
    "        # Add column 'khtn'\n",
    "        cols_khtn = ['vat_li', 'hoa_hoc', 'sinh_hoc']\n",
    "        if all(col in df.columns for col in cols_khtn):\n",
    "            df['khtn'] = df[cols_khtn].sum(axis=1)\n",
    "            df['khtn'] = df['khtn'].where(df[cols_khtn].notnull().all(axis=1))\n",
    "            print(\"Added column 'khtn'\")\n",
    "        else:\n",
    "            print(f\"Missing KHTN columns: {', '.join([col for col in cols_khtn if col not in df.columns])}\")\n",
    "\n",
    "        # Add column 'khxh'\n",
    "        cols_khxh = ['lich_su', 'dia_li', 'gdcd']\n",
    "        if all(col in df.columns for col in cols_khxh):\n",
    "            df['khxh'] = df[cols_khxh].sum(axis=1)\n",
    "            df['khxh'] = df['khxh'].where(df[cols_khxh].notnull().all(axis=1))\n",
    "            print(\"Added column 'khxh'\")\n",
    "        else:\n",
    "            print(f\"Missing KHXH columns: {', '.join([col for col in cols_khxh if col not in df.columns])}\")\n",
    "\n",
    "        # Update again\n",
    "        self.dataframes[i] = (path, df)"
   ]
  }
 ],
 "metadata": {
  "kernelspec": {
   "display_name": "Python 3",
   "language": "python",
   "name": "python3"
  },
  "language_info": {
   "codemirror_mode": {
    "name": "ipython",
    "version": 3
   },
   "file_extension": ".py",
   "mimetype": "text/x-python",
   "name": "python",
   "nbconvert_exporter": "python",
   "pygments_lexer": "ipython3",
   "version": "3.11.9"
  }
 },
 "nbformat": 4,
 "nbformat_minor": 5
}
